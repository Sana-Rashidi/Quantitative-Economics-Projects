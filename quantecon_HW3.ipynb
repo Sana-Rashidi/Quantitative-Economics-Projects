{
  "cells": [
    {
      "cell_type": "markdown",
      "metadata": {
        "id": "6metx3FDJmD5"
      },
      "source": [
        "**<font size=48>Quantitative Economics</font>**<br>\n",
        "<br>\n",
        "\n",
        "**Problem Set 3**\n",
        "\n",
        "**Parham Mohammadi - 401206677**\n",
        "\n",
        "**Sana Rashidi - 401211522**\n"
      ]
    },
    {
      "cell_type": "markdown",
      "metadata": {
        "id": "0OYAUotfSQsP"
      },
      "source": [
        "# **1  Linear Regression Model**"
      ]
    },
    {
      "cell_type": "markdown",
      "metadata": {
        "id": "ULwBFn4jSQsP"
      },
      "source": [
        "Use law of iterated expectations to show that the single conditional moment restriction $E[u|x] = 0$ leads to K unconditional moment conditions $E[xu] = 0$. Then please show that OLS is a special case of GMM (i.e., specify the $g(.)$ function and the minimization problem then show that its solution is the same as the OLS estimator, $\\hat \\beta_{OLS} = (X^T X)^{-1}X^T y)$.\n"
      ]
    },
    {
      "cell_type": "markdown",
      "metadata": {
        "id": "Z1prTgFKSQsQ"
      },
      "source": [
        "From Laww of ITerated Expectations we have:\n",
        "$$E[X] = E_{y}[E[X|Y]]=\\int E[X|Y]f(y)dx$$\n",
        "so we can have:\n",
        "$$E[xu] = E_{x}[E[xu|x]]=E_{x}[xE[u|x]]$$\n",
        "remember that from conditional moment restriction we had $$E[u|x]=0$$\n",
        "so we have:\n",
        "$$E[xu] = 0$$\n",
        "\n",
        "X is a $n \\times K$ matrix, we can have K unconditional moments: (remember x_{i} means observation correspondong to the k covatiates for unite i and its a $K \\times 1$ vector, just like $\\beta$)\n",
        "$$E[x_{1}u]=0$$\n",
        "$$E[x_{2}u]=0$$\n",
        "and so forth untill N"
      ]
    },
    {
      "cell_type": "markdown",
      "metadata": {
        "id": "7IXBKTnTSQsQ"
      },
      "source": [
        "replacing u from $u = y - x \\beta$\n",
        "we will have K moments:\n",
        "$$E[x(y-x^{\\prime} \\beta)]=0$$\n",
        "because we do not observe all of the population and we have access to sample, we have:\n",
        "$$g(K) =\\frac {1}{N}\\sum_{t=1}^{N}(x_{i}(y_{i}-x_{i}^{\\prime}\\beta))=\\frac {1}{N}\\sum_{t=1}^{N}(x_{i}(y_{i} - \\beta_{1}x_{i1} - \\beta_{2}x_{i2} ... \\beta_{k}x_{ik})) $$\n",
        "and we will have K moments fot the K parameters\n",
        "OLS is special case of GMM:\n",
        "In the GMM we wanted to find parameters which minimize the moments we have. As we have K moments for the k parameters, each moment will be equal to zero:\n",
        "$$\\Sigma_{i}^{N} x_{i}y_{i} -\\Sigma_{i}^{N} x_{i}x_{i}^{\\prime}\\beta=0$$\n",
        "$$\\hat \\beta_{GMM}=(\\Sigma_{i}^{N} x_{i}x_{i}^{\\prime})^{\\prime}\\Sigma_{i}^{N} x_{i}y_{i}$$\n",
        "which is exactly what we had in OLS estimation."
      ]
    },
    {
      "cell_type": "markdown",
      "metadata": {
        "id": "cMTVEyONSQsQ"
      },
      "source": [
        "### 1.2 Additional Moment Restrictions"
      ]
    },
    {
      "cell_type": "markdown",
      "metadata": {
        "id": "iPHNWvDPSQsR"
      },
      "source": [
        "If r = q (number of parameters are equal to number of moments) the model is said to be just-identified and the MM estimator can be used.\n",
        "in this part we are adding K new moments. So the model will be over-identified.\n",
        "If $r > q $ the model is said to be overidentified and MM has no solution for $\\theta $ as there are more equations $ r $ than unknowns $q$. Instead, $\\theta $ is chosen so that a quadratic form in $ N^{-1} \\sum_{i} h(w_i, \\hat \\theta)$ is as close to zero as possible. Specifically, the generalized methods of moments estimator $\\theta_{GMM}$ minimizes the objective function:\n",
        "\n",
        "$$\n",
        "Q_N(\\theta) = [\\frac{1}{N} \\sum_{i=1}^{N} h(w_i, \\theta)]' W_{N} [\\frac{1}{N} \\sum_{i=1}^{N} h(w_i, \\theta)],\n",
        "$$\n",
        "\n",
        "where the $r \\times r $ weighting matrix $W_N $ is symmetric positive definite.\n",
        "with the new moments in this part, we have $2 \\times K$ moments and $K$ parameters to estimates. So we can not use the MM estimator because we can not equal all the equations to zero. So we use the GMM method in which we can minimize the sum of weighted squares of each moment and use all the moments that we have to increase the power of the model.\n"
      ]
    },
    {
      "cell_type": "markdown",
      "metadata": {
        "id": "rBGz9NDajR8I"
      },
      "source": [
        "# **2 Instrumental Variables Regression**"
      ]
    },
    {
      "cell_type": "markdown",
      "metadata": {
        "id": "eV2Nb8cWjaHQ"
      },
      "source": [
        "## **2.1 Exclusion Restriction**"
      ]
    },
    {
      "cell_type": "markdown",
      "metadata": {
        "id": "ySVLrFXPlVEd"
      },
      "source": [
        "An instrumental variable is a method for situations that an explanatory variable has endogeneity. That is, there is one or more explanatory variables that are correlated with the error term. If one or more instrumental variables can be found that are correlated with the endogenous variables but not correlated with the error term, then the coefficients can be estimated in a consistent way. \\\\\n",
        "\n",
        "The exclusion restriction condition states that the instrumental variable must be correlated with the dependent variable only from the channel of the endogenous variable.\n",
        "\n",
        "In other words, the instrumental variable should not be related to the error term and its correlation with the error term must be zero. In mathematical terms, this condition can be expressed as follows: \\\\\n",
        "$cov(z,u)=0$ \\\\\n",
        "\n",
        "<img src='https://drive.google.com/uc?id=1pCx2Vcox60PxVOvRMHNvpdCn2To7gaTW'>\n",
        "\n",
        "We can see the exclusion restriction condition of the instrumental variable through the above diagram.\n"
      ]
    },
    {
      "cell_type": "markdown",
      "metadata": {
        "id": "NH-0fIfsje4w"
      },
      "source": [
        "## **2.2 Method of Moment**"
      ]
    },
    {
      "cell_type": "markdown",
      "metadata": {
        "id": "pfj4195GsAxn"
      },
      "source": [
        "We first use law of iterated expectation to show that $E[u|z]=0$  leads to $E[z'u]=0$ : \\\\\n",
        "$E[z'u]=E[E[z'u|z]] = E[z'E[u|z]] = 0 $ \\\\\n",
        "\n",
        "$z$ is a $J \\times 1 $ vector and $u$ is a scalar. Therefore, we can rewrite the above vector expression in the following scalar form: \\\\\n",
        "$ E[z_1u]=0 \\space , \\space E[z_2u]=0 \\space ,\\ldots, \\space E[z_Ju]=0 $ \\\\\n",
        "So exclusion restriction leads to $J$ unconditional moment conditions."
      ]
    },
    {
      "cell_type": "markdown",
      "metadata": {
        "id": "1HsRVZlBtz-q"
      },
      "source": [
        "Now we form the sample counterparts of the above moments to form $g_N(\\beta)$ : \\\\\n",
        "$g_N(\\beta)=\\frac{1}{N}\\boldsymbol{z'}u=\\frac{1}{N}\\boldsymbol{z'}(y-\\boldsymbol{x}\\beta)\n",
        "=\\frac{1}{N}\\left[\\begin{array}{c}\n",
        "\\sum_{i=1}^{n}z_{i1}(y_{i}-x_{i1}\\beta_{1}-x_{i2}\\beta_{2}-...x_{iK}\\beta_{K})\\\\\n",
        "\\sum_{i=1}^{n}z_{i2}(y_{i}-x_{i1}\\beta_{1}-x_{i2}\\beta_{2}-...x_{iK}\\beta_{K})\\\\\n",
        "\\vdots\\\\\n",
        "\\sum_{i=1}^{n}z_{iJ}(y_{i}-x_{i1}\\beta_{1}-x_{i2}\\beta_{2}-...x_{iK}\\beta_{K})\n",
        "\\end{array}\\right]$ \\\\\n",
        "Therefore, the method of moments has been transformed into linear equations with K parameters and J equations. In order for the above equations to have a unique solution, the following 2 conditions must be met: \\\\\n",
        "- The number of parameters should be exactly equal to the number of equations ($K=J$).\n",
        "- Also, the rank of the matrix of explanatory variables must be equal to K ($Rank(X)=K$)."
      ]
    },
    {
      "cell_type": "markdown",
      "metadata": {
        "id": "YSTlPDzSjh7t"
      },
      "source": [
        "## **2.3 GMM**"
      ]
    },
    {
      "cell_type": "markdown",
      "metadata": {
        "id": "cNkMwAxr0Tho"
      },
      "source": [
        "In the previous part, we showed that the method of moments cenverts to linear equations with K parameters and J equations. Therefore, if the number of instruments exceeds the number of regressors (J > k) or in other words, the number of equations will be greater than the number of parameters then the equations have no answer. \\\\\n",
        "We know that the real parameter values apply in the following equation : \\\\\n",
        "$\\beta_{0}=\\arg \\min _{\\beta \\in \\Gamma}\\left(E f\\left(y_{t} ; \\beta\\right)\\right)^{\\prime} W\\left(E f\\left(y_{t} ; \\beta\\right)\\right)$ \\\\\n",
        "GMM estimator is extracted from above equation : \\\\\n",
        "$\\hat{b}_{N}=\\arg \\min _{\\beta \\in \\Gamma} g_{N}(\\beta)^{\\prime} W g_{N}(\\beta)$ \\\\\n",
        "In the previous part, we obtained $g_N(\\beta)$ in terms of explanatory and instrumental variables. Now, if we replace the obtained vector in the above expression and choose a weight matrix W, the above expression becomes an optimization problem based on $\\beta$ parameters. Therefore, $g_{N}(\\beta)^{\\prime} W g_{N}(\\beta)$ is the quadratic loss function that GMM minimizes. The optimization result is the GMM estimator. \\\\\n",
        "Also, the size of the W is $J \\times J$"
      ]
    },
    {
      "cell_type": "markdown",
      "metadata": {
        "id": "fCItRjbBSQsR"
      },
      "source": [
        "# **3 Duration of Unemployment and Hazard of Job Finding**"
      ]
    },
    {
      "cell_type": "markdown",
      "metadata": {
        "id": "0EHlY_XISQsR"
      },
      "source": [
        "### 3.1 Mean duration and Survivor Function"
      ]
    },
    {
      "cell_type": "markdown",
      "metadata": {
        "id": "M8n0i4RASQsR"
      },
      "source": [
        "\\begin{align*}\n",
        "\\mathbb{E}(T) &= \\int_0^\\infty tf(t)dt \\\\\n",
        "&= \\int_0^\\infty t \\frac{d}{dt}F(t) dt \\\\\n",
        "&= \\int_0^\\infty t \\left(-\\frac{d}{dt}S(t)\\right)dt \\\\\n",
        "&= \\int_0^\\infty (-t)dS(t) \\\\\n",
        "&= \\left[-tS(t)\\right]_0^\\infty + \\int_0^\\infty S(t)dt \\\\\n",
        "&= 0 + \\int_0^\\infty S(u)du \\\\\n",
        "&= \\int_0^\\infty S(u)du\n",
        "\\end{align*}\n",
        "\n",
        "Or more easily:\n",
        "$$E[X]=\\int_0^\\infty (1-F_x(X))dx$$\n",
        "$$E[T]=\\int_0^\\infty (1-F(t))dt$$\n",
        "$$E[T]=\\int_0^\\infty S(t)dt$$"
      ]
    },
    {
      "cell_type": "markdown",
      "metadata": {
        "id": "Iy5sL4yqSQsR"
      },
      "source": [
        "### 3.2 Hazard Function"
      ]
    },
    {
      "cell_type": "markdown",
      "metadata": {
        "id": "XMGK6w1WSQsR"
      },
      "source": [
        "\n",
        "\n",
        "\n",
        "\\begin{align*}\n",
        "\\lambda(t) &= \\lim_{\\Delta t\\to 0} \\frac{\\Pr(t \\le T \\le t+\\Delta t  \\mid T\\ge t)}{\\Delta t} \\\\\n",
        "&= \\lim_{\\Delta t\\to 0} \\frac{\\frac{\\Pr(t \\le T < t+\\Delta t)}{\\Delta t }}{\\Pr(T \\ge t)} \\\\\n",
        "&= \\lim_{\\Delta t \\to 0} \\frac{\\frac{F(t+\\Delta t)-F(t)}{\\Delta t }}{1-F(t)} \\\\\n",
        "&= \\frac{1}{1-F(t)} \\cdot \\frac{dF}{dt} \\\\\n",
        "&= \\frac{f(t)}{S(t)}\n",
        "\\end{align*}\n",
        "\n",
        "\n",
        "\n",
        "\\begin{align*}\n",
        " -\\frac{d \\ln(S(t))}{dt} &= -\\frac{d \\ln(1-F(t))}{dt} \\\\\n",
        "&= \\frac{f(t)}{1-F(t)} \\\\\n",
        "&= \\frac{f(t)}{S(t)} \\\\\n",
        "\\end{align*}\n",
        "\n",
        "\n",
        "\n",
        "\n",
        "\\begin{align*}\n",
        "\\lambda(t) &= \\frac{f(t)}{S(t)} \\\n",
        "&= -\\frac{d}{dt} \\ln(S(t))\n",
        "\\end{align*}"
      ]
    },
    {
      "cell_type": "markdown",
      "metadata": {
        "id": "cBXP5LG4SQsR"
      },
      "source": [
        "### 3.3 Proportional Hazards Model"
      ]
    },
    {
      "cell_type": "markdown",
      "metadata": {
        "id": "xD0at5eTSQsS"
      },
      "source": [
        "Proportional Hazards Assumption: This assumption states that the hazard rate (the instantaneous failure rate at a given time) for any individual is proportional to the hazard rate of a baseline individual, with the proportionality constant being constant over time.\n",
        "**Parameters to be Estimated**:\n",
        "\n",
        "1. *Regression Coefficients (β)*: These coefficients represent the effects of covariates on the hazard rate. Each covariate in the model has an associated regression coefficient.\n",
        "   \n",
        "2. *Baseline Hazard Function (h_0(t))*: The shape of the baseline hazard function represents the hazard rate for an individual with all covariates set to zero. This function is typically unspecified and is estimated non-parametrically or through parametric assumptions. for example we may assume a specific baeline hazard (like the question) which itself has parameters to be estimated. There are common baseline hazard functions such as Weibull, Gompertz, lognormal, etc.\n",
        "\n",
        "**Methods for Estimating Parameters**:\n",
        "\n",
        "1. *Maximum Likelihood Estimation (MLE)*: The most common method for estimating the parameters of the proportional hazards model is MLE. MLE finds the set of parameter values that maximize the likelihood of observing the given data under the assumed proportional hazards model. This estimation technique requires specifying the form of the baseline hazard function.\n",
        "   \n",
        "2. *Partial Likelihood Estimation*: Since the baseline hazard function is often unspecified in the proportional hazards model, partial likelihood estimation is used. This approach eliminates the need to specify the baseline hazard function explicitly and focuses solely on estimating the regression coefficients (β). It involves maximizing the likelihood function only with respect to the regression coefficients. The example would be in Cox models.\n",
        "   \n",
        "3. *Non-parametric Estimation*: If the baseline hazard function is unknown and its form is not assumed, non-parametric methods such as the Kaplan-Meier estimator can be used to estimate the survival function and hazard function without making strong assumptions about the underlying distribution.\n",
        "   \n",
        "4. *Parametric Estimation*: Alternatively, parametric assumptions can be made about the form of the baseline hazard function, such as exponential, Weibull, or Gompertz distributions. In such cases, parametric methods can be used to estimate the parameters of the chosen distribution.\n",
        "\n",
        "These methods allow researchers to estimate the parameters of the proportional hazards model and make inferences about the effects of covariates on the hazard rate in survival data analysis.\n",
        "\n",
        "In the GMM method, we find moments that from the model we know that they should be equal to zero, and we find parametrs in a way to match the data with moments and minimize the distance between sample moments and the moments."
      ]
    },
    {
      "cell_type": "markdown",
      "metadata": {
        "id": "eNHS1D8lSQsS"
      },
      "source": [
        "### 3.4 GMM"
      ]
    },
    {
      "cell_type": "markdown",
      "metadata": {
        "id": "p_AhtUnESQsS"
      },
      "source": [
        "Suppose that we observe a sample of 200,000 workers who find jobs no later than 24 months after job loss. For simplicity, we assume that there is no censoring (i.e., all workers find jobs in less than 24 months and no one leaves the labor market while unemployed). Hence $1 \\leq t \\leq 24$\n",
        "Also, assume that from an economic structural model, we derived the following baseline hazard function:\n",
        "\n",
        "$$\\lambda_0(t, \\theta) = \\frac{1}{t} $$\n"
      ]
    },
    {
      "cell_type": "markdown",
      "metadata": {
        "id": "G916Q9BsSQsS"
      },
      "source": [
        "### 3.4.1 Baseline Hazard"
      ]
    },
    {
      "cell_type": "markdown",
      "metadata": {
        "id": "CcXpoKg7SQsS"
      },
      "source": [
        "Please interpret this function and specify role of the parameter $\\alpha$. What do you think about\n",
        "proper range for  $\\alpha$. Use your economic intuition to answer this questions. For instance, do you\n",
        "expect increasing, decreasing or constant baseline hazard function?"
      ]
    },
    {
      "cell_type": "markdown",
      "metadata": {
        "id": "5bMAYx_7SQsT"
      },
      "source": [
        "### answer"
      ]
    },
    {
      "cell_type": "markdown",
      "metadata": {
        "id": "nHJKl2aVSQsT"
      },
      "source": [
        "the parameter $\\alpha$ shows the time dependency of the baseline hazard. which means, for everybody (without considering the effects of covariates) when time passess (duration of unemployment becomes larger) how will the hazard of finding a job change. We have:\n",
        "$$\\frac{\\partial \\lambda_{0}}{\\partial t}= -\\alpha t ^{-\\alpha -1}$$\n",
        "So if $\\alpha$ is negative, it means that when unemployment duration increases, the hazard of finding a job increases. And if $\\alpha$ is positive it the hazard decreased.From the second order derivative we see that the convexity/concavity of the hazard function depends on $\\alpha$. if $\\alpha$ is between 0 and 1, the hazard function is concave, meaning that if $\\alpha$ is negative, the hazard will increase and then decrease. which makes sense because when people get unemployed, at first they may have unemployment insurance and because of lack of financial constraint, they do not search for jobs vigerously or are more picky in job selection. but after a while, because of the need for income, their reservation wage would fall or they may search more vigerously. so the hazatd increases. But when the unemplyment duration becomes too long, finding a job will be more hard because of depreciation of human capital or the negative signals of long unemployment durations."
      ]
    },
    {
      "cell_type": "markdown",
      "metadata": {
        "id": "cT8zag3oSQsT"
      },
      "source": [
        "### 3.4.2 Estimation: MLE not possible"
      ]
    },
    {
      "cell_type": "markdown",
      "metadata": {
        "id": "Y6IIcm61SQsT"
      },
      "source": [
        "Moreover, we observe the following covariates for each worker: years of schooling before job loss, gender, GDP growth rate at the time of job loss, unemployment rate at the time of job loss, job vacancy rate at the industry, and time of job loss.\n",
        "\n",
        "Assume\n",
        "$$\\lambda(x_i; \\theta) = \\exp(\\beta_0 + \\beta_1 \\text{school}_i + \\beta_2 \\text{gender} + \\beta_3 \\text{uri} + \\beta_4 i + \\beta_5 \\text{vaci}) $$\n",
        "\n",
        "Please explain why MLE is the ideal estimator, but it is not feasible with this assumptions.\n",
        "Your answer should not be more than one sentence!\n"
      ]
    },
    {
      "cell_type": "markdown",
      "metadata": {
        "id": "TX5UReqaSQsT"
      },
      "source": [
        "\n",
        "As discussed in the class, there is no alternative estimator that can have lower asymptotic variance, so MLE gives the moset efficient estimator. To use MLE need to know the full specification, so we have to know the full data generating process. So it is necessary to know the baseline hazard model and the distribution of the error terms, or make an assumption about them."
      ]
    },
    {
      "cell_type": "markdown",
      "metadata": {
        "id": "nqkJ8zb1SQsT"
      },
      "source": [
        "### 3.4.3 Moments"
      ]
    },
    {
      "cell_type": "markdown",
      "metadata": {
        "id": "c2gUFxAcSQsT"
      },
      "source": [
        "While you cannot use MLE, you can still use GMM. But first, you should form the moments you want to use. For simplicity, assume that the only covariate is schooling. Furthermore, assume that there are only two levels for schooling: 0 for no college and 1 for any college degree. Hence, parameters to be estimated are $\\theta = [\\lambda; \\beta_0; \\beta_1]$. What is the smallest number of moments you need for MM estimation?\n",
        "\n",
        "Now please find the $$\\lambda(t = s| \\text{school} = 1)$$ and $$\\lambda(t = s| \\text{school} = 0)$$ for all $1 \\leq s \\leq 24$ as a function of the parameters of the model. Then please identify the sample counterpart of these two terms to form 48 moments you may use in GMM. Write down the minimization problem.\n"
      ]
    },
    {
      "cell_type": "markdown",
      "metadata": {
        "id": "E9kOrUlfSQsT"
      },
      "source": [
        "### ANSWER\n",
        "We need at least 3 moments because we have three parameters to estimate. With more than 3 moments we can increase the power."
      ]
    },
    {
      "cell_type": "markdown",
      "metadata": {
        "id": "s8rteNvfSQsT"
      },
      "source": [
        "$$\\lambda(t | x) = \\lambda_0(t,\\alpha) \\cdot \\phi(x_i, \\beta) $$\n",
        "the effects of covariates enter the model as follows:\n",
        "$$\\phi(x_{i}, \\beta)=\\exp [\\beta_0+\\beta_1 school_i]$$\n",
        "from the baseline hazard function we had:\n",
        "$$\\lambda_0(t,\\alpha)=\\frac{1}{t^\\alpha}$$\n",
        "so the hazard if finding a job at time $t$ givent the covariates would be:\n",
        "$$\\rightarrow \\lambda(t|x)=\\lambda_0(t,\\alpha) \\phi(x_i, \\beta)\n",
        "=\\frac{1}{t^\\alpha}  \\exp [\\beta_0+\\beta_1 school_i]$$\n",
        "\n",
        "so $\\forall s\\in [1:24]$:\n",
        "$$\\lambda(t =s | school = 1) =\\frac{1}{s^\\alpha} exp [\\beta_0+\\beta_1] = \\frac{e^{\\beta_0  +\\beta_1}}{s^\\alpha}$$\n",
        "$$\\lambda(t =s | school = 0) =\\frac{1}{s^\\alpha} exp [\\beta_0] = \\frac{e^{\\beta_0}}{s^\\alpha}$$\n",
        "moments:\n",
        "$\\forall s\\in [1:24]$:\n",
        "$$E[\\lambda(t =s | school = 1) - \\frac{e^{\\beta_0  +\\beta_1}}{s^\\alpha}]=0$$\n",
        "$$E[\\lambda(t =s | school = 0) - \\frac{e^{\\beta_0}}{s^\\alpha}]=0$$\n",
        "We have 24 time spells and 2 states of covariate of schooling. So we can have 48 moments. for each schooling state we have 24 moments."
      ]
    },
    {
      "cell_type": "markdown",
      "metadata": {
        "id": "UlMvTbqaSQsT"
      },
      "source": [
        "For the sample counterparts, we have:\n",
        "$$\\hat \\lambda(t=s|school=1) = \\frac{f(t=s|school=1)}{S(t=s|school=1)} = \\frac{\\text{observations finding a job at time \\textit{s} with schooling = 1}}{\\text{observations in the risk pool of finding a job in \\textit{s} with schooling = 1}}$$"
      ]
    },
    {
      "cell_type": "markdown",
      "metadata": {
        "id": "JmFbhCMqSQsU"
      },
      "source": [
        "In GMM we want to find the estimations in which we can minimize the weighted distance between the moments ant their counterparts in the sample.\n",
        "So the minimization problem is:\n",
        "$$min \\ \\sum_{s=1}^{24} [\\hat{\\lambda}\\ (t =s | school = 1) - \\frac{1}{s^\\alpha} \\ \\exp [\\beta_0+\\beta_1] ]^2 + \\sum_{s=1}^{24} [\\hat{\\lambda}\\ (t =s | school = 0) - \\frac{1}{s^\\alpha} \\ \\exp [\\beta_0] ]^2$$\n"
      ]
    },
    {
      "cell_type": "markdown",
      "metadata": {
        "id": "yTRhlANLSQsU"
      },
      "source": [
        "### 3.4.4 Estimation: GMM"
      ]
    },
    {
      "cell_type": "markdown",
      "metadata": {
        "id": "Xw-KQc5ySQsU"
      },
      "source": [
        "Use the synthesized data, stored in hazard.dta, to estimate $\\theta = [\\lambda; \\beta_0; \\beta_1]$ using GMM. Notice that there is not a unique way for this estimation. You may decrease the number of moments by categorizing the duration of unemployment. For instance, you may use $Pr[T \\leq 12 | \\text{school}]$ and $Pr[T > 12 | \\text{school}]$ as 4 independent moments instead of the 48 moments we introduced in the previous section.\n"
      ]
    },
    {
      "cell_type": "markdown",
      "metadata": {
        "id": "GXTSQfXfSQsU"
      },
      "source": [
        "### Using 48 moments"
      ]
    },
    {
      "cell_type": "code",
      "execution_count": null,
      "metadata": {
        "id": "YSqjgYfhSQsV",
        "outputId": "197c7e27-fa49-4975-d39d-fb5ecefca314"
      },
      "outputs": [
        {
          "name": "stdout",
          "output_type": "stream",
          "text": [
            "GMM estimate for (α, β0, β1) = (-6.471784147217771, -20.742422525473618, -0.001327893162011104)\n"
          ]
        }
      ],
      "source": [
        "import pandas as pd\n",
        "import numpy as np\n",
        "from scipy.optimize import minimize\n",
        "\n",
        "\n",
        "data = pd.read_csv('hazard.csv')\n",
        "\n",
        "\n",
        "# maximum unemployment length in data\n",
        "max_duration = data['duration'].max()\n",
        "\n",
        "# sample moments\n",
        "# a matrix with n rows and 2 columns\n",
        "sample_moments = np.zeros((max_duration,2))\n",
        "# loop over schooling 0, 1\n",
        "for j in range(2):\n",
        "    # loop over duration 1-24\n",
        "    for i in range(1, max_duration + 1):\n",
        "        # numerator, number of observations who find job in each s with college j\n",
        "        count_f = data[(data['duration'] == i) & (data['college'] == j)].shape[0]\n",
        "        # denominator, number of observations remained unemployed in each s with college j\n",
        "        count_S = data[(data['duration'] >= i) & (data['college'] == j)].shape[0]\n",
        "        sample_moments[i-1,j] = count_f/count_S\n",
        "\n",
        "\n",
        "# moments\n",
        "# Define the GMM function\n",
        "def GMM(parameters):\n",
        "    # time range\n",
        "    s = np.arange(1, max_duration+1)\n",
        "    baseline_hazard = lambda t: 1 / (t ** parameters[0])\n",
        "    # maping is sooo good!\n",
        "    # generate 48 moments\n",
        "    # moment for college = 0\n",
        "    moment1 = np.array(list(map(baseline_hazard, s))) * np.exp(parameters[1]) - sample_moments[:, 0]\n",
        "    # moment for college = 1\n",
        "    moment2 = np.array(list(map(baseline_hazard, s))) * np.exp(parameters[1] + parameters[2]) - sample_moments[:, 1]\n",
        "\n",
        "    # Combine moments\n",
        "    moment = np.concatenate((moment1, moment2))\n",
        "    # square each element and sum\n",
        "    gmm = np.square(moment).sum()\n",
        "    return gmm\n",
        "\n",
        "\n",
        "\n",
        "\n",
        "# Initial guess for optimization\n",
        "initial_guess = np.array([0.0, 0.0, 0.0])\n",
        "\n",
        "# Minimize the GMM function\n",
        "result = minimize(GMM, initial_guess)\n",
        "\n",
        "# Extract estimates\n",
        "alpha, beta0, beta1 = result.x\n",
        "print(f\"GMM estimate for (α, β0, β1) = ({alpha}, {beta0}, {beta1})\")\n"
      ]
    },
    {
      "cell_type": "markdown",
      "metadata": {
        "id": "kYgLUTluSQsV"
      },
      "source": [
        "### Decrease number of moments by categorizing duration of unemployment"
      ]
    },
    {
      "cell_type": "markdown",
      "metadata": {
        "id": "jXm0iU2nSQsV"
      },
      "source": [
        "We had :\n",
        "$$S(t|x)=exp(-\\int_0^t \\lambda(t|x)dt)$$\n",
        "$$S(t|x)=exp(-\\int_0^t t^{-\\alpha}\\phi (x\\beta)dt)$$\n",
        "$$S(t|x)=exp(\\frac{-1}{1-\\alpha}\\cdot t^{1-\\alpha}\\phi (x\\beta))$$\n",
        "from 0 to t\n",
        "$$S(t|x)=exp(\\frac{-1}{1-\\alpha}\\cdot t^{1-\\alpha}\\phi (x\\beta))$$\n",
        "\n",
        "$$\\Pr[T<=12|school=1] = F(12)=1-S(t=12|school=1)=1-exp(\\frac{-1}{1-\\alpha}\\cdot 12^{1-\\alpha}\\cdot exp(\\beta_{0} + \\beta_{1})) $$\n",
        "$$\\Pr[T>12|school=1] = S(t=13|school=1)=exp(\\frac{-1}{1-\\alpha}\\cdot 13^{1-\\alpha}\\cdot exp(\\beta_{0} + \\beta_{1})) $$\n",
        "\n",
        "$$\\Pr[T<=12|school=0] = F(12)=1-S(t=12|school=0)=1-exp(\\frac{-1}{1-\\alpha}\\cdot 12^{1-\\alpha}\\cdot exp(\\beta_{0})) $$\n",
        "$$\\Pr[T>12|school=0] = S(t=13|school=0)=exp(\\frac{-1}{1-\\alpha}\\cdot 13^{1-\\alpha}\\cdot exp(\\beta_{0} )) $$\n",
        "\n",
        "So the moments would be:\n",
        "$$E[\\Pr[T<=12|school=1] - (1-exp(\\frac{-1}{1-\\alpha}\\cdot 12^{1-\\alpha}\\cdot exp(\\beta_{0} + \\beta_{1}))]]=0$$\n",
        "$$E[\\Pr[T>12|school=1] - exp(\\frac{-1}{1-\\alpha}\\cdot 13^{1-\\alpha}\\cdot exp(\\beta_{0} + \\beta_{1}))]=0$$\n",
        "$$E[\\Pr[T<=12|school=0] - (1-exp(\\frac{-1}{1-\\alpha}\\cdot 12^{1-\\alpha}\\cdot exp(\\beta_{0}))]]=0$$\n",
        "$$E[\\Pr[T>12|school=0] - exp(\\frac{-1}{1-\\alpha}\\cdot 13^{1-\\alpha}\\cdot exp(\\beta_{0}))]=0$$"
      ]
    },
    {
      "cell_type": "code",
      "execution_count": null,
      "metadata": {
        "id": "7btgQLr8SQsV",
        "outputId": "3808fd35-0334-4ad5-aaec-25f117817f25"
      },
      "outputs": [
        {
          "name": "stdout",
          "output_type": "stream",
          "text": [
            "GMM estimate for (α, β0, β1) = (0.9834425183430144, -3.596765230311649, 0.5681811708993376)\n"
          ]
        }
      ],
      "source": [
        "import pandas as pd\n",
        "import numpy as np\n",
        "from scipy.optimize import minimize\n",
        "\n",
        "\n",
        "data = pd.read_csv('hazard.csv')\n",
        "\n",
        "\n",
        "\n",
        "# sample moments\n",
        "# a matrix with 2 rows and 2 columns\n",
        "sample_moments = np.zeros((2,2))\n",
        "# loop over schooling 0, 1\n",
        "for j in range(2):\n",
        "    count_less_12 = data[(data['duration'] <=12) & (data['college'] == j)].shape[0]\n",
        "    count_more_12 = data[(data['duration'] >12) & (data['college'] == j)].shape[0]\n",
        "    All_school = data[(data['college'] == j)].shape[0]\n",
        "    sample_moments[0,j] = count_less_12/All_school\n",
        "    sample_moments[1,j] = count_more_12/All_school\n",
        "\n",
        "\n",
        "# moments\n",
        "# Define the GMM function\n",
        "def GMM(parameters):\n",
        "    # time range\n",
        "    # generate 4 moments\n",
        "    # moment for college = 1\n",
        "    moment1 = 1-np.exp((-1/(1-parameters[0]))*(12**(1-parameters[0]))*np.exp(parameters[1] + parameters[2])) -sample_moments[0,1]\n",
        "    moment2 = np.exp((-1/(1-parameters[0]))*(13**(1-parameters[0]))*np.exp(parameters[1] + parameters[2])) -sample_moments[1,1]\n",
        "    # moment for college = 0\n",
        "    moment3 = 1-np.exp((-1/(1-parameters[0]))*(12**(1-parameters[0]))*np.exp(parameters[1])) -sample_moments[0,0]\n",
        "    moment4 = np.exp((-1/(1-parameters[0]))*(13**(1-parameters[0]))*np.exp(parameters[1])) -sample_moments[1,0]\n",
        "    # Combine moments\n",
        "    moment = np.array([[moment1, moment2],[moment3,moment4]])\n",
        "    # square each element and sum\n",
        "    gmm = np.square(moment).sum()\n",
        "    return gmm\n",
        "\n",
        "\n",
        "\n",
        "\n",
        "# Initial guess for optimization\n",
        "initial_guess = np.array([0.0, 0.0, 0.0])\n",
        "\n",
        "# Minimize the GMM function\n",
        "result = minimize(GMM, initial_guess)\n",
        "\n",
        "# Extract estimates\n",
        "alpha, beta0, beta1 = result.x\n",
        "print(f\"GMM estimate for (α, β0, β1) = ({alpha}, {beta0}, {beta1})\")\n"
      ]
    },
    {
      "cell_type": "markdown",
      "metadata": {
        "id": "aik4fk5YSQsW"
      },
      "source": [
        "### 3.5 Weibull Proportional Hazard Model"
      ]
    },
    {
      "cell_type": "markdown",
      "metadata": {
        "id": "pFUvOd4vSQsW"
      },
      "source": [
        "Now assume that the baseline duration of unemployment has a Weibull distribution:\n",
        "\n",
        "$$ F(t) = 1 - e^{-\\gamma t^{\\alpha}} $$\n",
        "\n",
        "Please use the earlier definitions to find survivor and hazard functions. Form the log likelihood function and derive the first-order conditions. (optional) Then use MLE to estimate $ \\Theta = (\\gamma, \\alpha, \\beta_{0}, \\beta_{1}, \\beta_{2}) $. Maximum likelihood can be viewed as the GMM estimator with moment conditions equal to the first derivatives of the likelihood with respect to $ \\theta $. (these are called the score equations).\n",
        "\n",
        "You may use Stata’s streg command to make sure that your estimates are accurate. Now estimate the full specification in equation 1. What is the economic interpretation of your results.\n"
      ]
    },
    {
      "cell_type": "markdown",
      "metadata": {
        "id": "_y-hLrtXSQsW"
      },
      "source": [
        "For $f(t)$ we have:\n",
        "$$f(t)=\\frac{\\partial F(t)}{\\partial t}$$\n",
        "$$f(t)=\\gamma \\alpha \\ t^{\\alpha-1}  e^{-\\gamma t ^\\alpha}$$\n",
        "For survivor function we had:\n",
        "$$S(t) = 1- F(t)$$\n",
        "so:\n",
        "$$S(t) = e^{-\\gamma t ^\\alpha}$$\n",
        "for baseline hazard function, we have:\n",
        "$$ \\lambda_0(t) = -\\frac{dln(S(t))}{dt} = -\\frac{d(-\\gamma t ^\\alpha)}{dt} = \\gamma \\alpha \\ t^{\\alpha-1}  $$\n",
        "and we have:\n",
        "$$\\lambda(t)= -\\frac{dln(S(t))}{dt} $$\n",
        "$$ln(S(t))=-\\int \\lambda(t) dt$$\n",
        "$$S(t)=e^{-\\int \\lambda(t) dt} = e^{-\\Lambda}$$\n",
        "Since it is propirtional hazard model, we have:\n",
        "$$\\lambda(t | x) = \\lambda_0(t,\\alpha) \\exp(x_i, \\beta) $$\n",
        "$$\\lambda(t | x) = \\gamma \\alpha \\ t^{\\alpha-1} \\exp(x_i, \\beta) $$\n",
        "since we have:\n",
        "$$f(t,x)=\\lambda(t|x) S(t|x)$$\n",
        "Likelihood function:\n",
        "$$L(\\alpha,\\gamma;t)=\\prod_{i=1}^N f(t)= \\prod_{i=1}^N [\\lambda(t|x) S(t|x)]$$\n",
        "$$L(\\alpha,\\gamma;t)=\\prod_{i=1}^N f(t)= \\prod_{i=1}^N [\\gamma \\alpha \\ t^{\\alpha-1} \\exp(x_i, \\beta)e^{-\\Lambda} ]$$\n",
        "Log-likelihood:\n",
        "$$ln(L(\\alpha,\\gamma;t))=\\sum_{i=1}^N [ln(\\gamma)+ ln(\\alpha) +{(\\alpha-1)} ln(t_i) + -\\Lambda]$$\n",
        "$$ln(L(\\alpha,\\gamma;t))=\\sum_{i=1}^N [ln(\\gamma)+ ln(\\alpha) +{(\\alpha-1)} ln(t_i) +X_i^{\\prime} \\beta+ -\\int \\gamma \\alpha \\ t^{\\alpha-1} \\exp(x_i, \\beta)dt]$$\n",
        "$$ln(L(\\alpha,\\gamma;t))=\\sum_{i=1}^N [ln(\\gamma)+ ln(\\alpha) +{(\\alpha-1)} ln(t_i) +X_i^{\\prime} \\beta+ - \\gamma t^{\\alpha} e^{X_i^{\\prime} \\beta}]$$\n",
        "\n",
        "\n",
        "\n",
        "From F.O.C's we have :\n",
        "$$\\frac{\\partial LL}{\\partial \\alpha} = 0 \\to \\frac{N}{\\alpha} + \\sum_{i=1}^N \\ln(t_i) -\\gamma \\sum_{i=1}^N \\ln(t_i) e^{X_i'\\beta} t_i^\\alpha = 0$$\n",
        "$$\\frac{\\partial LL}{\\partial \\gamma} = 0 \\to \\frac{N}{\\gamma} +  \\sum_{i=1}^N (t_i)^{\\alpha} e^{X_i'\\beta} = 0$$\n",
        "$$\\frac{\\partial LL}{\\partial \\beta} =0 \\to \\sum_{i=1}^N X_i - \\gamma \\sum_{i=1}^N X_i e^{X_i'\\beta} t_i^\\alpha = 0$$\n"
      ]
    },
    {
      "cell_type": "markdown",
      "metadata": {
        "id": "2AptIxxDSQsb"
      },
      "source": [
        "### Version 2"
      ]
    },
    {
      "cell_type": "markdown",
      "metadata": {
        "id": "8ssigrzpSQsb"
      },
      "source": [
        "Additional assumption according to TA:\n",
        "$$\\gamma_i=e^{X_i'\\beta} \\rightarrow ln(\\gamma_i) = X_i'\\beta  $$\n",
        "likelihood function:\n",
        "$$L(\\alpha,\\gamma;t)=\\prod_{i=1}^N f(t)= \\prod_{i=1}^N [\\gamma \\alpha \\ t_i^{\\alpha-1}  e^{-\\gamma t_i^\\alpha}]$$\n",
        "substitude in the log-likelihood function:\n",
        "$$LL =ln(L(\\alpha,\\beta;t,X))=\\sum_{i=1}^N [X_i'\\beta+ ln(\\alpha) +{(\\alpha-1)} ln(t_i) -{e^{X_i'\\beta} t_i ^\\alpha}]$$\n",
        "\n",
        "\n",
        "The F.O.Cs:\n",
        "$$\\partial LL/ \\partial \\alpha = 0 \\to \\frac{N}{\\alpha} + \\sum_{i=1}^N \\ln(t_i) - \\sum_{i=1}^N \\ln(t_i) e^{X_i'\\beta} t_i^\\alpha = 0$$\n",
        "\n",
        "$$\\partial LL/ \\partial \\beta =0 \\to \\sum_{i=1}^N X_i - \\sum_{i=1}^N X_i e^{X_i'\\beta} t_i^\\alpha = 0$$\n",
        "\n",
        "$$$$"
      ]
    },
    {
      "cell_type": "markdown",
      "metadata": {
        "id": "t9wY4lzLoJHm"
      },
      "source": [
        "# **4 Logit derivation**"
      ]
    },
    {
      "cell_type": "markdown",
      "metadata": {
        "id": "LzKcICBzoUS-"
      },
      "source": [
        "## **4.1 Gumbel distribution**"
      ]
    },
    {
      "cell_type": "code",
      "execution_count": 4,
      "metadata": {
        "colab": {
          "base_uri": "https://localhost:8080/",
          "height": 472
        },
        "id": "wZT4pIc4oFU9",
        "outputId": "21ec8462-5484-44ab-93da-2628aa3384b9"
      },
      "outputs": [
        {
          "data": {
            "image/png": "[encoded data removed]",
            "text/plain": [
              "<Figure size 640x480 with 1 Axes>"
            ]
          },
          "metadata": {},
          "output_type": "display_data"
        }
      ],
      "source": [
        "import matplotlib.pyplot as plt\n",
        "import numpy as np\n",
        "\n",
        "points = np.linspace(-4, 8, 10000)\n",
        "probs = np.exp(-points) * np.exp(-np.exp(-points))\n",
        "\n",
        "plt.plot(points, probs, linewidth=2.5, color='r')\n",
        "plt.xlabel(\"X\")\n",
        "plt.ylabel(\"f(X)\")\n",
        "plt.title(\"PDF of Gumbel distribution\")\n",
        "plt.show()"
      ]
    },
    {
      "cell_type": "code",
      "execution_count": 5,
      "metadata": {
        "colab": {
          "base_uri": "https://localhost:8080/",
          "height": 472
        },
        "id": "LkojFTNYWpnQ",
        "outputId": "86d6f8df-fd6c-4e25-e142-b274009f97a7"
      },
      "outputs": [
        {
          "data": {
            "image/png": "[encoded data removed]",
            "text/plain": [
              "<Figure size 640x480 with 1 Axes>"
            ]
          },
          "metadata": {},
          "output_type": "display_data"
        }
      ],
      "source": [
        "points = np.linspace(-4, 8, 10000)\n",
        "probs = np.exp(-np.exp(-points))\n",
        "\n",
        "plt.plot(points, probs, linewidth=2.5, color='r')\n",
        "plt.xlabel(\"X\")\n",
        "plt.ylabel(\"F(X)\")\n",
        "plt.title(\"CDF of Gumbel distribution\")\n",
        "plt.show()"
      ]
    },
    {
      "cell_type": "code",
      "execution_count": 6,
      "metadata": {
        "colab": {
          "base_uri": "https://localhost:8080/"
        },
        "id": "LMdMTgD6PVLJ",
        "outputId": "909220d6-e598-4b50-ebb3-0c516311d850"
      },
      "outputs": [
        {
          "name": "stdout",
          "output_type": "stream",
          "text": [
            "Mean of Gumbel distribution: 0.577\n",
            "Variance of Gumbel distribution: 1.645\n"
          ]
        }
      ],
      "source": [
        "from scipy.stats import gumbel_r\n",
        "\n",
        "print(f\"Mean of Gumbel distribution: {gumbel_r.mean():.3f}\")\n",
        "print(f\"Variance of Gumbel distribution: {gumbel_r.var():.3f}\")"
      ]
    },
    {
      "cell_type": "markdown",
      "metadata": {
        "id": "XlhvHDnyaq_K"
      },
      "source": [
        "## **4.2 Gumbel - Gumbel = Logistics ≈ Normal!**"
      ]
    },
    {
      "cell_type": "markdown",
      "metadata": {
        "id": "RlOPUvw_a-6h"
      },
      "source": [
        "First we prove that the difference between two Gumbel distriibution is distributed logistic. \\\\\n",
        "To show that we calculate CDF of the difference based on pdf of the 2 Gumbel distribution: \\\\\n",
        "$F_{\\epsilon}(s)=Prob(\\epsilon_{ni}-\\epsilon_{nj}<s)=Prob(\\epsilon_{ni}<s+\\epsilon_{nj})$ \\\\\n",
        "$=\\int_{\\epsilon_{nj}}Prob(\\epsilon_{ni}<s+\\epsilon_{nj}|\\epsilon_{nj})g(\\epsilon_{nj})d\\epsilon_{nj}$ \\\\\n",
        "$=\\int_{\\epsilon_{nj}}G(s+\\epsilon_{nj})g(\\epsilon_{nj})d\\epsilon_{nj}$ \\\\\n",
        "$=\\int_{\\epsilon_{nj}} e^{-e^{-(s+\\epsilon_{nj})}} e^{-\\epsilon_{nj}} e^{-e^{-\\epsilon_{nj}}} d\\epsilon_{nj}$ \\\\\n",
        "$=\\int_{\\epsilon_{nj}} e^{-e^{-\\epsilon_{nj}-s}-e^{-\\epsilon_{nj}}-\\epsilon_{nj}} d\\epsilon_{nj}$ \\\\\n",
        "Substitude $u=e^{\\epsilon_{nj}} \\rightarrow du = e^{\\epsilon_{nj}}d\\epsilon_{nj}$ , $\\epsilon_{nj}=ln(u)$ \\\\\n",
        "$\\rightarrow \\int e^{-e^{-\\epsilon_{nj}-s}-e^{-\\epsilon_{nj}}-\\epsilon_{nj}} d\\epsilon_{nj}= \\int \\frac{e^{\\frac{e^{-s}(-e^{-s}-1)}{u}}}{u^2}du$ \\\\\n",
        "Substitude $v=\\frac{e^{-s}(-e^{-s}-1)}{u} \\rightarrow dv = -\\frac{e^{-s}(-e^{-s}-1)}{u^2}du$ \\\\\n",
        "$\\rightarrow \\int \\frac{e^{\\frac{e^{-s}(-e^{-s}-1)}{u}}}{u^2}du = \\frac{e^s}{e^s+1} \\int e^v dv = \\frac{e^{v+s}}{e^s+1}$ \\\\\n",
        "$\\rightarrow \\int e^{-e^{-\\epsilon_{nj}-s}-e^{-\\epsilon_{nj}}-\\epsilon_{nj}} d\\epsilon_{nj} = \\frac{e^{v+s}}{e^s+1} = \\frac{e^{\\frac{e^{-s}(-e^{-s}-1)}{u}+s}}{e^s+1} = \\frac{e^{(-e^{-s}-1)e^{-\\epsilon_{nj}-s}+s}}{e^s+1}$ \\\\\n",
        "$\\rightarrow F_{\\epsilon}(s) = \\int_{-\\infty}^{+\\infty} e^{-e^{-\\epsilon_{nj}-s}-e^{-\\epsilon_{nj}}-\\epsilon_{nj}} d\\epsilon_{nj}=\\frac{e^s}{e^s+1}$ \\\\\n",
        "Now, if we take the derivative of the CDF function, the pdf function corresponding to the difference is also obtained: \\\\\n",
        "$f_{\\epsilon}(s) = \\frac{d}{d_s}F_\\epsilon(s)=\\frac{d}{d_s}\\frac{e^s}{e^s+1}=\\frac{e^s}{(e^s+1)^2}$ \\\\\n",
        "Therefore, the difference of two independent random variables with Gumbel distribution has logistic distribution."
      ]
    },
    {
      "cell_type": "code",
      "execution_count": 7,
      "metadata": {
        "colab": {
          "base_uri": "https://localhost:8080/",
          "height": 472
        },
        "id": "aWM-JbIZa8rC",
        "outputId": "e3b18df0-8ba4-4d16-d826-8f668001f9aa"
      },
      "outputs": [
        {
          "data": {
            "image/png": "[encoded data removed]",
            "text/plain": [
              "<Figure size 640x480 with 1 Axes>"
            ]
          },
          "metadata": {},
          "output_type": "display_data"
        }
      ],
      "source": [
        "import seaborn as sns\n",
        "from scipy.stats import norm\n",
        "\n",
        "points = np.linspace(-10, 10, 100000)\n",
        "probs = np.exp(points) / np.square(np.exp(points)+1)\n",
        "norm_probs = norm.pdf(\n",
        "    x=points,\n",
        "    loc=0,\n",
        "    scale=((np.pi**2)/3)**0.5\n",
        ")\n",
        "\n",
        "plt.plot(points, probs, linewidth=1.5, color='r')\n",
        "plt.plot(points, norm_probs, linewidth=1.5, color='b')\n",
        "plt.xlabel(\"X\")\n",
        "plt.ylabel(\"f(X)\")\n",
        "plt.title(\"PDF of Logistic vs Normal\")\n",
        "plt.show()"
      ]
    },
    {
      "cell_type": "code",
      "execution_count": 8,
      "metadata": {
        "colab": {
          "base_uri": "https://localhost:8080/",
          "height": 472
        },
        "id": "IFE3dzbY5tbO",
        "outputId": "a7d709a0-cbb2-4f9d-de6b-4c6405f92f6e"
      },
      "outputs": [
        {
          "data": {
            "image/png": "[encoded data removed]",
            "text/plain": [
              "<Figure size 640x480 with 1 Axes>"
            ]
          },
          "metadata": {},
          "output_type": "display_data"
        }
      ],
      "source": [
        "points = np.linspace(-10, 10, 100000)\n",
        "probs = np.exp(points) / (np.exp(points)+1)\n",
        "norm_probs = norm.cdf(\n",
        "    x=points,\n",
        "    loc=0,\n",
        "    scale=((np.pi**2)/3)**0.5\n",
        ")\n",
        "\n",
        "plt.plot(points, probs, linewidth=1, color='r')\n",
        "plt.plot(points, norm_probs, linewidth=1, color='b')\n",
        "plt.xlabel(\"X\")\n",
        "plt.ylabel(\"f(X)\")\n",
        "plt.title(\"CDF of Logistic vs Normal\")\n",
        "plt.show()"
      ]
    },
    {
      "cell_type": "markdown",
      "metadata": {
        "id": "1Ui09cgmQRDG"
      },
      "source": [
        "As we can see, the distribution of the difference between two independent RV with Gumbel distributions and the difference between two independent RV with normal distributions are very similar."
      ]
    },
    {
      "cell_type": "markdown",
      "metadata": {
        "id": "eUFp1bGB7zmP"
      },
      "source": [
        "Since logit is obtained based on the difference of two I.I.D. random variables with Gumbel distribution, the mean and variance of the logistic distribution can be calculated as follows: \\\\\n",
        "$ E(\\epsilon_{ni}-\\epsilon_{nj})=E(\\epsilon_{ni})-E(\\epsilon_{nj})=0$ \\\\\n",
        "$Var(\\epsilon_{ni}-\\epsilon_{nj})=Var(\\epsilon_{ni})+Var(\\epsilon_{nj})=\\frac{\\pi^2}{6}+\\frac{\\pi^2}{6}=\\frac{\\pi^2}{3}$ \\\\\n",
        "Therefore, the standard logistic distribution has a mean of 0 and a variance of $\\frac{\\pi^2}{3}$"
      ]
    },
    {
      "cell_type": "markdown",
      "metadata": {
        "id": "9E_eyoMJ9IDb"
      },
      "source": [
        "Now we derive binary logit model with 2 below assumptions: \\\\\n",
        "- Error terms are independent\n",
        "- Distribution of error terms is Gumbel \\\\\n",
        "\n",
        "Now we calculate the probability that the first choice is chosen by person n: \\\\\n",
        "$P_{n1} = Prob(U_{n1}>U_{n0})$ \\\\\n",
        "$=Prob(V_{n1}+\\epsilon_{n1}>V_{n0}+\\epsilon_{n0})$ \\\\\n",
        "$=Prob(\\epsilon_{n0}-\\epsilon_{n1}<V_{n1}-V_{n0})$ \\\\\n",
        "We know that the $\\epsilon_{nj}-\\epsilon_{ni}$ has logistic distribution, so above probability converts to: \\\\\n",
        "$P_{n1}=F_{\\epsilon}(V_{n1}-V_{n0})=\\frac{e^{V_{n1}-V_{n0}}}{1+e^{V_{n1}-V_{n0}}}=\\frac{e^{V_{n1}-V_{n0}}}{1+e^{V_{n1}-V_{n0}}}=\\frac{e^{(X_{n1}-X_{n0})\\beta}}{1+e^{(X_{n1}-X_{n0})\\beta}}$ \\\\\n",
        "The calculation of $P_{ni}$ has a completely similar process. with the difference that all < signs are converted to >. Therefore, its probability is equal to one minus the previous probability: \\\\\n",
        "$P_{n0} = 1 - P_{n1}$"
      ]
    },
    {
      "cell_type": "markdown",
      "metadata": {
        "id": "2uq3EuPhFfyR"
      },
      "source": [
        "## **4.3 Derivation of Multinomial Logit Formula**"
      ]
    },
    {
      "cell_type": "markdown",
      "metadata": {
        "id": "6-9eixFakzOk"
      },
      "source": [
        "First we calculate conditional probability $P_{ni}|\\epsilon_{ni}$ : \\\\\n",
        "$P_{ni} = Prob(U_{ni}>U_{nj}, \\quad \\forall j \\neq i)$ \\\\\n",
        "$=Prob(V_{ni}+\\epsilon_{ni}>V_{nj}+\\epsilon_{nj}, \\quad \\forall j \\neq i)$ \\\\\n",
        "$=Prob(\\epsilon_{nj}<\\epsilon_{ni}+V_{ni}-V_{nj}, \\quad \\forall j \\neq i)$ \\\\\n",
        "Since all error terms are independent, above joint probability converts to below product : \\\\\n",
        "$=\\prod_{j \\neq i} Prob(\\epsilon_{nj}<\\epsilon_{ni}+V_{ni}-V_{nj})$ \\\\\n",
        "$= \\prod_{j \\neq i} G(\\epsilon_{ni}+V_{ni}-V_{nj})$ \\\\\n",
        "$= \\prod_{j \\neq i} e^{-e^{-(\\epsilon_{ni}+V_{ni}-V_{nj})}}$ \\\\"
      ]
    },
    {
      "cell_type": "markdown",
      "metadata": {
        "id": "pjcxrLsLUqzX"
      },
      "source": [
        "Now we calculate the probability that the i choice is chosen by person n by conditioning on $\\epsilon_{ni}$ : \\\\\n",
        "$P_{ni} = \\int_{\\epsilon_{ni}}P_{ni}|\\epsilon_{ni}g(\\epsilon_{ni})d\\epsilon_{ni}$ \\\\\n",
        "$= \\int_{\\epsilon_{ni}}\\ \\prod_{j \\neq i} e^{-e^{-(\\epsilon_{ni}+V_{ni}-V_{nj})}} e^{-\\epsilon_{ni}} e^{-e^{-\\epsilon_{ni}}} d\\epsilon_{ni}$ \\\\\n",
        "$= \\int_{\\epsilon_{ni}} \\prod e^{-e^{-(\\epsilon_{ni}+V_{ni}-V_{nj})}} e^{-\\epsilon_{ni}} d\\epsilon_{ni}$ \\\\\n",
        "\n",
        "\n",
        "Substitude $u=e^{\\epsilon_{ni}} \\rightarrow du = e^{\\epsilon_{ni}}d\\epsilon_{ni}$ , $\\epsilon_{ni}=ln(u)$ \\\\\n",
        "\n",
        "\n",
        "$\\rightarrow \\int \\prod e^{-e^{-(\\epsilon_{ni}+V_{ni}-V_{nj})}} e^{-\\epsilon_{ni}} d\\epsilon_{ni} = \\int \\frac{\\prod e^{\\frac{-e^{-{(V_{ni}-V_{nj})}}}{u}}}{u^2} du = \\int \\frac{e^{\\frac{\\Sigma -e^{-{(V_{ni}-V_{nj})}}}{u}}}{u^2} du$ \\\\\n",
        "\n",
        "\n",
        "Substitude $v=\\frac{\\Sigma -e^{-{(V_{ni}-V_{nj})}}}{u} \\rightarrow dv = -\\frac{\\Sigma -e^{-{(V_{ni}-V_{nj})}}}{u^2}du$ \\\\\n",
        "\n",
        "\n",
        "$\\rightarrow \\int \\frac{e^{\\frac{\\Sigma -e^{-{(V_{ni}-V_{nj})}}}{u}}}{u^2} du = \\frac{1}{\\Sigma e^{-{(V_{ni}-V_{nj})}}} \\int e^v dv = \\frac{e^v}{\\Sigma e^{-{(V_{ni}-V_{nj})}}}$\n",
        "\n",
        "$\\rightarrow P_{ni} = \\int_{-\\infty}^{+\\infty} \\prod e^{-e^{-(\\epsilon_{ni}+V_{ni}-V_{nj})}} e^{-\\epsilon_{ni}} d\\epsilon_{ni} = \\frac{e^{\\frac{\\Sigma -e^{-{(V_{ni}-V_{nj})}}}{e^{\\epsilon_{ni}}}}}{\\Sigma e^{-{(V_{ni}-V_{nj})}}} \\Big|_{-\\infty}^{+\\infty} = \\frac{1}{\\Sigma e^{-{(V_{ni}-V_{nj})}}} = \\frac{e^{V_{ni}}}{\\Sigma_j e^{V_{nj}}}$"
      ]
    },
    {
      "cell_type": "markdown",
      "metadata": {
        "id": "haj5Mm31nm4-"
      },
      "source": [
        "## **4.4 Derivatives and Elasticities**"
      ]
    },
    {
      "cell_type": "markdown",
      "metadata": {
        "id": "gJjFKz6j1V4m"
      },
      "source": [
        "First we calculate the derivative of $P_{ni}$ with respect to some $z_{ni}$ : \\\\\n",
        "$\\frac{\\partial P_{ni}}{\\partial z_{ni}}=\\frac{\\partial P_{ni}}{\\partial V_{ni}} \\frac{\\partial V_{ni}}{\\partial z_{ni}}$ \\\\\n",
        "$P_{ni}=\\frac{e^{V_{ni}}}{\\Sigma_j e^{V_{nj}}} \\rightarrow \\frac{\\partial P_{ni}}{\\partial V_{ni}}= \\frac{e^{V_{ni}}.\\Sigma_j e^{V_{nj}}-e^{2V_{ni}}}{(\\Sigma_j e^{V_{nj}})^2}=P_{ni}-P_{ni}^2=P_{ni}(1-P_{ni})$ \\\\\n",
        "$\\rightarrow \\frac{\\partial P_{ni}}{\\partial z_{ni}}=\\frac{\\partial V_{ni}}{\\partial z_{ni}}P_{ni}(1-P_{ni})$"
      ]
    },
    {
      "cell_type": "markdown",
      "metadata": {
        "id": "CjaggnBe3FPG"
      },
      "source": [
        "Now we calculate that elasticity of $P_{ni}$ with respect to $z_{ni}$ : \\\\\n",
        "$E_{i,z_{ni}}=\\frac{\\partial P_{ni}}{\\partial z_{ni}}.\\frac{z_{ni}}{P_{ni}}=\\frac{\\partial V_{ni}}{\\partial z_{ni}}P_{ni}(1-P_{ni})\\frac{z_{ni}}{P_{ni}}=\\frac{\\partial V_{ni}}{\\partial z_{ni}}z_{ni}(1-P_{ni})$"
      ]
    },
    {
      "cell_type": "markdown",
      "metadata": {
        "id": "bw4AW7mH4F6c"
      },
      "source": [
        "At the end we calculate cross derivative and cross elasticities : \\\\\n",
        "$\\frac{\\partial P_{ni}}{\\partial z_{nj}}=\\frac{\\partial P_{ni}}{\\partial V_{nj}} \\frac{\\partial V_{nj}}{\\partial z_{nj}}$ \\\\\n",
        "$P_{ni}=\\frac{e^{V_{ni}}}{\\Sigma_k e^{V_{nk}}} \\rightarrow \\frac{\\partial P_{ni}}{\\partial V_{nj}}= \\frac{-e^{V_{nj}}e^{V_{ni}}}{(\\Sigma_k e^{V_{nk}})^2}=-\\frac{e^{V_{ni}}}{\\Sigma_k e^{V_{nk}}}\\frac{e^{V_{nj}}}{\\Sigma_k e^{V_{nk}}}=-P_{ni}P_{nj}$ \\\\\n",
        "$\\rightarrow \\frac{\\partial P_{ni}}{\\partial z_{nj}}=-\\frac{\\partial V_{nj}}{\\partial z_{nj}}P_{ni}P_{nj}$ \\\\\n",
        "$E_{i,z_{nj}}=\\frac{\\partial P_{ni}}{\\partial z_{nj}}.\\frac{z_{nj}}{P_{ni}}=-\\frac{\\partial V_{nj}}{\\partial z_{nj}}P_{ni}P_{nj}\\frac{z_{nj}}{P_{ni}}$ \\\\\n",
        "$\\rightarrow E_{i,z_{nj}}=-\\frac{\\partial V_{nj}}{\\partial z_{nj}}z_{nj}P_{nj}$"
      ]
    },
    {
      "cell_type": "markdown",
      "metadata": {
        "id": "QIZ53KmV7qId"
      },
      "source": [
        "# **5 Maximum Likelihood Estimation**"
      ]
    },
    {
      "cell_type": "markdown",
      "metadata": {
        "id": "1A1PDOAg7wzn"
      },
      "source": [
        "## **5.1 Log Likelihood function**"
      ]
    },
    {
      "cell_type": "markdown",
      "metadata": {
        "id": "GcN3dwoiYZSd"
      },
      "source": [
        "First we calculate likelihood of data given x and y : \\\\\n",
        "Assume person n chose option k. So we can write it's likelihood as below: \\\\\n",
        "$L_n(\\beta \\space | \\space person \\space n \\space choice \\space is \\space k \\space)=P_{nk} \\space | \\space \\beta = \\frac{e^{X_{nk}\\beta}}{\\Sigma_j e^{X_{nj}\\beta}} $ (⋆) \\\\\n",
        "We can obtain individual log-likelihood as below: \\\\\n",
        "$ln(L_n(\\beta))=\\Sigma_i \\space y_{ni}ln(P_{ni})$ \\\\\n",
        "In the above sigma, only $y_{nk}$ is equal to 1 and $y_{nj}$ is equal to 0 for all $j \\neq i$. Therefore, the above sigma converts to the ln of the (⋆) probability. \\\\\n",
        "Now we aggregate individual likelihoods to derive total likelihood : \\\\\n",
        "$L(\\beta)=\\prod_{n=1}^N L_n(\\beta)$ \\\\\n",
        "Now we obtain Log-Likelihood from above expression : \\\\\n",
        "$LL(\\beta) = \\Sigma_{n=1}^N ln(L_n(\\beta))=\\Sigma_{n=1}^N \\Sigma_i \\space y_{ni}ln(P_{ni})$"
      ]
    },
    {
      "cell_type": "markdown",
      "metadata": {
        "id": "sJve-JHAfifX"
      },
      "source": [
        "## **5.2 First order condition**"
      ]
    },
    {
      "cell_type": "markdown",
      "metadata": {
        "id": "AaJDaDUG96z-"
      },
      "source": [
        "Now we get the first order condition from the obtained log-likelihood function: \\\\\n",
        "$\\frac{\\partial LL(\\beta)}{\\partial \\beta}=\\Sigma_{n=1}^N \\frac{\\partial}{\\partial \\beta} \\Sigma_i \\space y_{ni}ln(P_{ni})=\\Sigma_{n=1}^N \\frac{\\partial}{\\partial \\beta} \\Sigma_i \\space y_{ni}ln(\\frac{e^{x_{ni}\\beta}}{\\Sigma_j e^{x_{nj}\\beta}})$ \\\\\n",
        "\n",
        "$=\\Sigma_{n=1}^N \\frac{\\partial}{\\partial \\beta} \\Sigma_i \\space y_{ni}ln(\\frac{e^{x_{ni}\\beta}}{\\Sigma_j e^{x_{nj}\\beta}})$ \\\\\n",
        "\n",
        "$=\\Sigma_{n=1}^N \\frac{\\partial}{\\partial \\beta} \\Sigma_i \\space y_{ni}(x_{ni}\\beta - ln(\\Sigma_j e^{x_{nj}\\beta}))$ \\\\\n",
        "\n",
        "$=\\Sigma_{n=1}^N \\Sigma_i \\space y_{ni}(x_{ni} - \\frac{\\Sigma_j x_{nj} e^{x_{nj}\\beta}}{\\Sigma_j e^{x_{nj}\\beta}})$ \\\\\n",
        "\n",
        "$=\\Sigma_{n=1}^N \\Sigma_i \\space y_{ni}(x_{ni} - \\Sigma_j x_{nj} P_{nj})$ \\\\\n",
        "\n",
        "$=\\Sigma_{n=1}^N \\Sigma_i \\space (y_{ni}x_{ni}) - \\Sigma_i (x_{ni} P_{ni})$ \\\\\n",
        "\n",
        "$=\\Sigma_{n=1}^N \\Sigma_i \\space (y_{ni} - P_{ni})x_{ni}$ \\\\\n",
        "\n",
        "So we can write F.O.C. condition as below: \\\\\n",
        "$=\\Sigma_{n=1}^N \\Sigma_i \\space (y_{ni} - P_{ni})x_{ni} = 0$"
      ]
    },
    {
      "cell_type": "markdown",
      "metadata": {
        "id": "C360aehgE3bC"
      },
      "source": [
        "The interpretation of the above equation is that this estimator tries to make the predicted probability for ni close to 1 if option i is selected by person n, and if this option is not selected, the predicted probability is close to zero. In such a way that if option i is selected, y becomes one and otherwise it is zero. Generally we can say that sum of logit predicted probability deviations from true choices of all options of all decision makers, weighted by the explanatory variable is zero. \\\\\n",
        "Easily we can convert F.O.C. equation to below equation: \\\\\n",
        "$ \\sum_{n=1}^{N} \\sum_i y_{ni}x_{ni} = \\sum_{n=1}^{N} \\sum_i P_{ni}x_{ni}$ \\\\\n",
        "So above equation leads to the prediction such that the predicted average of each explanatory variable be equal to the observed\n",
        "average in the sample."
      ]
    },
    {
      "cell_type": "markdown",
      "metadata": {
        "id": "XPD2r8yTGhbS"
      },
      "source": [
        "## **5.3 Goodness of fit**\n"
      ]
    },
    {
      "cell_type": "markdown",
      "metadata": {
        "id": "IqzPjzUaGnn0"
      },
      "source": [
        "This index states how much the explanatory variables explain people's decisions. In other words, we calculate the likelihood value of the model when it only includes intercept. Then we calculate how much is added to the explanation of the utility function after adding explanatory variables. The lower the explanatory power of the model, the value of this index goes to 0, and the higher explanatory power of the model, the value goes to 1. \\\\\n",
        "Therefore, this index is a measure that shows how explanatory variables have been able to add explanatory power in the observable part of the utility function. \\\\\n",
        "Yes, According to the interpretation of this index based on the explanatory power of explanatory variables, its performance is similar to the $R^2$ index in linear regression. \\\\\n",
        "This index cannot be used to compare two different models with two different datasets. Because this index determines for a specific dataset how much the addition of explanatory variables adds to the likelihood of the data compared to the base model that only has intercept. \\\\\n",
        "Therefore, the value of this index depends on the likelihood of the base model, which has a different base from one dataset to another dataset. Therefore, this index depends on the base value of likelihood, which is independent of the model and its performance. Therefore, this index is not applicable for two different sets of data. This index can be a measure of how much the model has been able to add to the explanation of people's decision-making for a given dataset, so it is used to compare two models with a common dataset."
      ]
    }
  ],
  "metadata": {
    "colab": {
      "provenance": [],
      "toc_visible": true
    },
    "kernelspec": {
      "display_name": "Python 3",
      "name": "python3"
    },
    "language_info": {
      "name": "python"
    }
  },
  "nbformat": 4,
  "nbformat_minor": 0
}
