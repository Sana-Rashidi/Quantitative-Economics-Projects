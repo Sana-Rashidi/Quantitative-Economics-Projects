{
  "cells": [
    {
      "cell_type": "markdown",
      "metadata": {
        "id": "6metx3FDJmD5"
      },
      "source": [
        "**<font size=48>Quantitative Economics</font>**<br>\n",
        "<br>\n",
        "\n",
        "**Problem Set 6**\n",
        "\n",
        "**Parham Mohammadi - 401206677**\n",
        "\n",
        "**Sana Rashidi - 401211522**\n"
      ]
    },
    {
      "cell_type": "markdown",
      "metadata": {
        "id": "tgOI1pq6z5Jj"
      },
      "source": [
        "# **1**"
      ]
    },
    {
      "cell_type": "code",
      "execution_count": 6,
      "metadata": {
        "id": "mVzVX7HGzz76"
      },
      "outputs": [],
      "source": [
        "def samesign(a, b):\n",
        "    return a * b > 0\n",
        "\n",
        "def bisect(f, low, high, epsilon=1e-6, max_iter=100000):\n",
        "    # Ensure that the function values at low and high have opposite signs\n",
        "\n",
        "    # Perform the bisection method\n",
        "    for i in range(max_iter):\n",
        "        # Compute the midpoint\n",
        "        midpoint = (low + high) / 2\n",
        "\n",
        "        # Update the interval based on the sign of the function at the midpoint\n",
        "        if samesign(f(low), f(midpoint)):\n",
        "            low = midpoint\n",
        "        else:\n",
        "            high = midpoint\n",
        "\n",
        "        # Check if the tolerance level is specified and if the interval size is within tolerance\n",
        "        if abs(high - low) < epsilon:\n",
        "            break\n",
        "\n",
        "    return midpoint\n",
        "\n"
      ]
    },
    {
      "cell_type": "code",
      "execution_count": 7,
      "metadata": {
        "colab": {
          "base_uri": "https://localhost:8080/"
        },
        "id": "VxgqycJLzz78",
        "outputId": "1ec04849-3888-47a0-cf93-3776e23fe121"
      },
      "outputs": [
        {
          "name": "stdout",
          "output_type": "stream",
          "text": [
            "Optimal point within the interval: 2.9999992847442627\n"
          ]
        }
      ],
      "source": [
        "# Example usage:\n",
        "def f(x):\n",
        "    return -(x - 3) ** 2\n",
        "\n",
        "# Interval [a, b]\n",
        "interval = (0, 6)\n",
        "\n",
        "# Find the maximum of the function within the interval\n",
        "max_point = bisect(f, interval[0], interval[1])\n",
        "max_value = f(max_point)\n",
        "\n",
        "print(\"Optimal point within the interval:\", max_point)"
      ]
    },
    {
      "cell_type": "code",
      "execution_count": 33,
      "metadata": {
        "id": "gpPL_8aZzz78"
      },
      "outputs": [],
      "source": [
        "import numpy as np\n",
        "from autograd import grad, hessian\n",
        "\n",
        "def Gradient(f, x0, interval, alpha=0.001, epsilon=1e-20, max_iter=5):\n",
        "    def g(x):\n",
        "        return grad(f)(x)\n",
        "\n",
        "    for i in range(max_iter):\n",
        "        gradient = g(x0)\n",
        "        print(np.linalg.norm(gradient))\n",
        "        if np.linalg.norm(gradient) < epsilon:\n",
        "            break\n",
        "        else:\n",
        "            x1 = x0 + alpha * gradient\n",
        "            for i in range(len(x1)):\n",
        "                x1[i] = np.clip(x1[i], np.min(interval[i]), np.max(interval[i]))\n",
        "            x0 = x1\n",
        "    return x0\n"
      ]
    },
    {
      "cell_type": "code",
      "execution_count": 29,
      "metadata": {
        "id": "mdAZyaR_zz79"
      },
      "outputs": [],
      "source": [
        "import numpy as np\n",
        "from autograd import grad, hessian\n",
        "\n",
        "def Gradient_hess(f, x0, interval, alpha=0.0001, epsilon=1e-20, max_iter=10000):\n",
        "    def g(x):\n",
        "        return grad(f)(x)\n",
        "\n",
        "    def hess_f(x):\n",
        "        return hessian(f)(x)\n",
        "\n",
        "    for i in range(max_iter):\n",
        "        gradient = g(x0)\n",
        "        hess_matrix = hess_f(x0)\n",
        "        hess_inv = np.linalg.inv(hess_matrix)\n",
        "        if np.linalg.norm(gradient) < epsilon:\n",
        "            break\n",
        "        else:\n",
        "            x1 = x0 + alpha * (-1)* hess_inv @ gradient\n",
        "            for i in range(len(x1)):\n",
        "                x1[i] = np.clip(x1[i], np.min(interval[i]), np.max(interval[i]))\n",
        "            x0 = x1\n",
        "    return x0"
      ]
    },
    {
      "cell_type": "code",
      "execution_count": 10,
      "metadata": {
        "id": "nBvisEirzz79"
      },
      "outputs": [],
      "source": [
        "import numpy as np\n",
        "import sys\n",
        "from autograd import grad\n",
        "\n",
        "def Gradient_vcm(f, x0, interval, alpha=0.001, epsilon=1e-6, max_iter=10000, regularization=1e-6):\n",
        "    def g(x):\n",
        "        return grad(f)(x)\n",
        "\n",
        "    def compute_vcm(x):\n",
        "        grad_at_x = g(x)\n",
        "        vcm = np.outer(grad_at_x, grad_at_x)\n",
        "        return vcm\n",
        "\n",
        "    for i in range(max_iter):\n",
        "        gradient = g(x0)\n",
        "        vcm_matrix = compute_vcm(x0)\n",
        "        # Add regularization to the diagonal elements of the VCM matrix\n",
        "        vcm_matrix_reg = vcm_matrix + regularization * np.eye(len(x0))\n",
        "        try:\n",
        "            # Check if the VCM matrix is near singular\n",
        "            if np.linalg.cond(vcm_matrix_reg) < 1/sys.float_info.epsilon:\n",
        "                # Compute the inverse of the regularized VCM matrix\n",
        "                vcm_inv = np.linalg.inv(vcm_matrix_reg)\n",
        "            else:\n",
        "                # Skip inversion if the matrix is near singular\n",
        "                continue\n",
        "        except np.linalg.LinAlgError:\n",
        "            # Skip inversion if the matrix is singular\n",
        "            continue\n",
        "\n",
        "        if np.linalg.norm(gradient) < epsilon:\n",
        "            break\n",
        "        else:\n",
        "            x1 = x0 + alpha  * vcm_inv @ gradient\n",
        "\n",
        "            for i in range(len(x1)):\n",
        "                x1[i] = np.clip(x1[i], np.min(interval[i]), np.max(interval[i]))\n",
        "            x0 = x1\n",
        "    return x0\n",
        "\n"
      ]
    },
    {
      "cell_type": "code",
      "execution_count": 11,
      "metadata": {
        "id": "qF_IoTP8zz79"
      },
      "outputs": [],
      "source": [
        "# Example usage:\n",
        "def f(x):\n",
        "    return -((x[0]-2.8)**2 + (x[1]-4.2)**2)    # Function to minimize: x^2 + y^2\n",
        "\n",
        "# Initial point\n",
        "x0 = np.array([2.0, 3.0])\n",
        "# Interval [a, b]\n",
        "interval = ([0, 6], [0, 6])"
      ]
    },
    {
      "cell_type": "code",
      "execution_count": 12,
      "metadata": {
        "colab": {
          "base_uri": "https://localhost:8080/"
        },
        "id": "XJ65VCBvzz79",
        "outputId": "f9bd0dbe-6d11-478c-cda2-7993bd476bee"
      },
      "outputs": [
        {
          "name": "stdout",
          "output_type": "stream",
          "text": [
            "Optimal point within the interval 1: [2.50571116 3.75856674]\n",
            "Optimal point within the interval 2: [2.79999972 4.19999958]\n",
            "Optimal point within the interval 3: [2.80000026 4.20000038]\n"
          ]
        }
      ],
      "source": [
        "optimal_point_1 = Gradient_hess(f, x0, interval)\n",
        "print(\"Optimal point within the interval 1:\", optimal_point_1)\n",
        "\n",
        "optimal_point_2 = Gradient(f, x0, interval)\n",
        "print(\"Optimal point within the interval 2:\", optimal_point_2)\n",
        "\n",
        "optimal_point_3 = Gradient_vcm(f, x0, interval)\n",
        "print(\"Optimal point within the interval 3:\", optimal_point_3)\n"
      ]
    },
    {
      "cell_type": "markdown",
      "metadata": {
        "id": "xwcT8VrLvXhq"
      },
      "source": [
        "# **2**"
      ]
    },
    {
      "cell_type": "markdown",
      "metadata": {
        "id": "rCicf2vsBZde"
      },
      "source": [
        "## Library"
      ]
    },
    {
      "cell_type": "code",
      "execution_count": 1,
      "metadata": {
        "id": "X-qAaLQFrOD8"
      },
      "outputs": [],
      "source": [
        "import numpy as np\n",
        "from scipy.stats import expon, norm, uniform\n",
        "from scipy.optimize import minimize"
      ]
    },
    {
      "cell_type": "markdown",
      "metadata": {
        "id": "HfX3Vfs0BfUr"
      },
      "source": [
        "## Constants"
      ]
    },
    {
      "cell_type": "code",
      "execution_count": 2,
      "metadata": {
        "id": "yRfbvwXX1z6H"
      },
      "outputs": [],
      "source": [
        "sample_size = 500\n",
        "\n",
        "options = ['Bus', 'Taxi', 'Car']\n",
        "\n",
        "x1_distribution_params = [(1,1), (4, 1), (2, 1)]\n",
        "x2_distribution_params = [(1,1), (0.5, 1), (0, 1)]\n",
        "x3_distribution_params = [(1,1), (2, 1), (2.5, 1)]\n",
        "x4_distribution_params = [(2,1), (5, 1), (4, 1)]\n",
        "\n",
        "beta1 = 1\n",
        "beta2 = 1.5\n",
        "beta3 = 3\n",
        "beta4 = -3\n",
        "\n",
        "epsilon_distribution_params = (0, 0.5)\n",
        "\n",
        "replication = 1000"
      ]
    },
    {
      "cell_type": "markdown",
      "metadata": {
        "id": "EBHZOYa9BkNp"
      },
      "source": [
        "## Data Generating Process"
      ]
    },
    {
      "cell_type": "code",
      "execution_count": 3,
      "metadata": {
        "id": "_cD3BLsU0jfi"
      },
      "outputs": [],
      "source": [
        "def data_generator():\n",
        "  convenience = np.empty((len(options), sample_size))\n",
        "  distance = np.empty((len(options), sample_size))\n",
        "  duration = np.empty((len(options), sample_size))\n",
        "  cost = np.empty((len(options), sample_size))\n",
        "\n",
        "  for i in range(len(options)):\n",
        "    convenience[i, :] = uniform.rvs(\n",
        "        loc=x1_distribution_params[i][0],\n",
        "        scale=x1_distribution_params[i][1],\n",
        "        size=sample_size\n",
        "    )\n",
        "    distance[i, :] = expon.rvs(\n",
        "        loc=x2_distribution_params[i][0],\n",
        "        scale=x2_distribution_params[i][1],\n",
        "        size=sample_size\n",
        "    )\n",
        "    duration[i, :] = expon.rvs(\n",
        "        loc=x3_distribution_params[i][0],\n",
        "        scale=x3_distribution_params[i][1],\n",
        "        size=sample_size\n",
        "    )\n",
        "    cost[i, :] = norm.rvs(\n",
        "        loc=x4_distribution_params[i][0],\n",
        "        scale=x4_distribution_params[i][1],\n",
        "        size=sample_size\n",
        "    )\n",
        "\n",
        "  epsilon = norm.rvs(\n",
        "      loc=epsilon_distribution_params[0],\n",
        "      scale=epsilon_distribution_params[1],\n",
        "      size=(len(options), sample_size)\n",
        "  )\n",
        "\n",
        "  observed_utility = beta1*convenience + beta2*distance + \\\n",
        "                     beta3*duration + beta4*cost\n",
        "\n",
        "  utility = observed_utility + epsilon\n",
        "\n",
        "  choices = np.argmax(utility, axis=0)\n",
        "\n",
        "  return convenience, distance, duration, cost, choices"
      ]
    },
    {
      "cell_type": "markdown",
      "metadata": {
        "id": "7xhyeSaoBnuR"
      },
      "source": [
        "## Maximum Simulated Likelihood"
      ]
    },
    {
      "cell_type": "code",
      "execution_count": 4,
      "metadata": {
        "id": "HhBPnkz28ZY6"
      },
      "outputs": [],
      "source": [
        "def simulated_log_likelihood(\n",
        "    beta1, beta2, beta3, beta4, choices,\n",
        "    convenience, distance, duration, cost,\n",
        "    replication=1000\n",
        "):\n",
        "  np.random.seed(0)\n",
        "  epsilon = norm.rvs(\n",
        "      loc=epsilon_distribution_params[0],\n",
        "      scale=epsilon_distribution_params[1],\n",
        "      size=(len(options), sample_size, replication)\n",
        "  )\n",
        "\n",
        "  observed_utility = beta1*convenience + beta2*distance + \\\n",
        "                     beta3*duration + beta4*cost\n",
        "\n",
        "  observed_utility_expanded = np.tile(\n",
        "      observed_utility[:, :, np.newaxis],\n",
        "      (1, 1, replication)\n",
        "  )\n",
        "\n",
        "  utility = observed_utility_expanded + epsilon\n",
        "\n",
        "  simul_choices = np.argmax(utility, axis=0)\n",
        "\n",
        "  simul_choices_expanded = np.tile(\n",
        "      simul_choices[np.newaxis, :, :],\n",
        "      (len(options), 1, 1)\n",
        "  )\n",
        "\n",
        "  options_expanded = np.tile(\n",
        "      np.arange(len(options))[:, np.newaxis, np.newaxis],\n",
        "      (1, sample_size, replication)\n",
        "  )\n",
        "\n",
        "  probs = np.where(\n",
        "      simul_choices_expanded == options_expanded, 1, 0\n",
        "  ).mean(axis=2)\n",
        "\n",
        "  choices_probs = probs[choices, np.arange(choices.shape[0])]\n",
        "\n",
        "  log_likelihood = np.log(np.maximum(choices_probs, 1e-6)).sum()\n",
        "\n",
        "  return log_likelihood"
      ]
    },
    {
      "cell_type": "markdown",
      "metadata": {
        "id": "8rSoMztvCOpT"
      },
      "source": [
        "## Estimate Parameters"
      ]
    },
    {
      "cell_type": "code",
      "execution_count": 5,
      "metadata": {
        "colab": {
          "base_uri": "https://localhost:8080/"
        },
        "id": "SMz0MeP_Bqnu",
        "outputId": "5e8b655c-c853-4991-b7fe-11f1e11b0f6a"
      },
      "outputs": [
        {
          "data": {
            "text/plain": [
              "-40.19895871153179"
            ]
          },
          "execution_count": 5,
          "metadata": {},
          "output_type": "execute_result"
        }
      ],
      "source": [
        "convenience, distance, duration, cost, choices = data_generator()\n",
        "\n",
        "simulated_log_likelihood(\n",
        "    beta1, beta2, beta3, beta4, choices,\n",
        "    convenience, distance, duration, cost,\n",
        "    replication=1000\n",
        ")"
      ]
    },
    {
      "cell_type": "code",
      "execution_count": null,
      "metadata": {
        "colab": {
          "base_uri": "https://localhost:8080/"
        },
        "id": "yYWCYaCHFfSn",
        "outputId": "3c6f0c40-cdd9-4332-f42b-760dde273870"
      },
      "outputs": [
        {
          "name": "stdout",
          "output_type": "stream",
          "text": [
            "Log Likelihood: -53.55186438\n",
            "Estimated Parameters: [ 0.98075181  1.44434097  2.8702005  -2.86790818]\n"
          ]
        }
      ],
      "source": [
        "objective_function = lambda x: -simulated_log_likelihood(\n",
        "    x[0], x[1], x[2], x[3], choices,\n",
        "    convenience, distance, duration, cost,\n",
        "    replication=10000\n",
        ")\n",
        "\n",
        "res = minimize(objective_function, [1, 1, 1, 1], method='Nelder-Mead', tol=1e-7)\n",
        "\n",
        "print(f\"Log Likelihood: {-res.fun:.8f}\")\n",
        "print(f\"Estimated Parameters: {res.x}\")"
      ]
    }
  ],
  "metadata": {
    "colab": {
      "provenance": []
    },
    "kernelspec": {
      "display_name": "Python 3",
      "name": "python3"
    },
    "language_info": {
      "name": "python"
    }
  },
  "nbformat": 4,
  "nbformat_minor": 0
}
