{
  "cells": [
    {
      "cell_type": "markdown",
      "metadata": {
        "id": "Np9eBRt512ax"
      },
      "source": [
        "# **1 Monte-Carlo Simulation of firm’s behavior in exportation**"
      ]
    },
    {
      "cell_type": "markdown",
      "metadata": {
        "id": "dS4EQahh3iwQ"
      },
      "source": [
        "**1. Setup a firm's problem..**"
      ]
    },
    {
      "cell_type": "markdown",
      "metadata": {
        "id": "979MgK3v3tYb"
      },
      "source": [
        "Every firm has a specific production function in terms of labor and wages. Therefore, to produce any given amount of production, a certain amount of labor must be considered. Therefore, for each level of production, the amount of cost is known ($w\\times (\\frac{y}{A})^{\\frac{1}{\\alpha}}$). On the other hand, the company has two domestic and foreign markets with the same demand, which must pay a fixed cost to enter the foreign market. Therefore, if the price of the product is determined, the demand for the product is determined in the domestic and foreign markets. Now, the company can only enter the domestic market or pay a fixed fee and export the product with a tariff. Therefore, at any price, the company's income is obtained from the maximum of these two choices (only domestic or both). Therefore, the company has 3 stages. It does not produce in the first stage. In the second stage, it only enters the domestic market, and in the third stage, in addition to the domestic market, it is also exported. Therefore, for each level of production, income and cost are obtained through these 2 mechanisms. Therefore, each company must determine the price and decide whether to export or not to maximize the company's profit. \\\n",
        "In mathematical terms, firm's problem can be written: \\\n",
        "$domestic \\; demand = foreign \\; demand \\; \\rightarrow \\; y_{domestic} = y_{export} = y = Y\\left(\\frac{p}{P}\\right)^{-\\sigma}$ \\\n",
        "$income_{domestic} = py_{domestic} = py$ \\\n",
        "$income_{export} = py_{domestic} + \\tau py_{export} = (1+\\tau)py$ \\\n",
        "$cost_{domestic} = w (\\frac{y_{domestic}}{A})^{\\frac{1}{\\alpha}} + f_o = w (\\frac{y}{A})^{\\frac{1}{\\alpha}} + f_o$ \\\n",
        "$cost_{export} = w (\\frac{y_{domestic} + y_{export}}{A})^{\\frac{1}{\\alpha}} + f_o + f_x = w (\\frac{2y}{A})^{\\frac{1}{\\alpha}} + f_o + f_x$ \\\n",
        "$ \\rightarrow firm's \\; problem : argmax_p ( max(py - w (\\frac{y}{A})^{\\frac{1}{\\alpha}} - f_o \\; , \\: (1+\\tau)py -  w (\\frac{2y}{A})^{\\frac{1}{\\alpha}} - f_o - f_x) )$ \\"
      ]
    },
    {
      "cell_type": "markdown",
      "metadata": {
        "id": "rUnphtfS7-27"
      },
      "source": [
        "**2. Solve for the firm's price (Hint: it's constant markup over marginal cost).**"
      ]
    },
    {
      "cell_type": "markdown",
      "metadata": {
        "id": "2W67ypK58I2K"
      },
      "source": [
        "First we calculate the firm's optimal price in domestic option: \\\n",
        "We can rewrite the company's problem as follows: \\\n",
        "$p^*_{domestic} = argmax_p (p \\times Y(\\frac{p}{P})^{-\\sigma} - w \\times (\\frac{Y}{A} (\\frac{p}{P})^{-\\sigma})^{\\frac{1}{\\alpha}} - f_0)$ \\\n",
        "$F.O.C. \\: : \\frac{\\partial}{\\partial p}(p \\times Y(\\frac{p}{P})^{-\\sigma} - w \\times (\\frac{Y}{A} (\\frac{p}{P})^{-\\sigma})^{\\frac{1}{\\alpha}} - f_0) = 0$ \\\\\n",
        "$\\rightarrow (1-\\sigma)Y(\\frac{p}{P})^{-\\sigma} + w \\sigma \\frac{1}{\\alpha} (\\frac{Y}{A})^\\frac{1}{\\alpha} (\\frac{1}{P})^\\frac{-\\sigma}{\\alpha}p^{\\frac{-\\sigma}{\\alpha}-1}$  \\\n",
        "$\\rightarrow ((\\sigma - 1)YP^\\sigma)p^{-\\sigma} =  (w \\sigma \\frac{1}{\\alpha} (\\frac{Y}{A})^\\frac{1}{\\alpha}(\\frac{1}{P})^\\frac{-\\sigma}{\\alpha})p^{\\frac{-\\sigma}{\\alpha}-1} $ \\\n",
        "$\\rightarrow ((\\sigma - 1)YP^\\sigma)p^{-\\sigma + \\frac{\\sigma}{\\alpha} + 1} = (w \\sigma \\frac{1}{\\alpha} (\\frac{Y}{A})^\\frac{1}{\\alpha}(\\frac{1}{P})^\\frac{-\\sigma}{\\alpha})$ \\\n",
        "$\\rightarrow p^* = (\\frac{(w \\sigma \\frac{1}{\\alpha} (\\frac{Y}{A})^\\frac{1}{\\alpha}(\\frac{1}{P})^\\frac{-\\sigma}{\\alpha}}{((\\sigma - 1)YP^\\sigma)})^{\\frac{1}{-\\sigma + \\frac{\\sigma}{\\alpha} + 1}}$"
      ]
    },
    {
      "cell_type": "markdown",
      "metadata": {
        "id": "CLERp94FKeuo"
      },
      "source": [
        "Now we calculate the firm's optimal price in export option: \\\n",
        "We can rewrite the company's problem as follows: \\\n",
        "$p^*_{export} = argmax_p ((1+\\tau)p \\times Y(\\frac{p}{P})^{-\\sigma} - w \\times (\\frac{2Y}{A} (\\frac{p}{P})^{-\\sigma})^{\\frac{1}{\\alpha}} - f_o - f_x)$ \\\n",
        "$F.O.C. \\: : \\frac{\\partial}{\\partial p}((1+\\tau)p \\times Y(\\frac{p}{P})^{-\\sigma} - w \\times (\\frac{2Y}{A} (\\frac{p}{P})^{-\\sigma})^{\\frac{1}{\\alpha}} - f_o - f_x) = 0$ \\\n",
        "$\\rightarrow (1+\\tau)(1-\\sigma)Y(\\frac{p}{P})^{-\\sigma} + w \\sigma \\frac{1}{\\alpha} (\\frac{2Y}{A})^\\frac{1}{\\alpha} (\\frac{1}{P})^\\frac{-\\sigma}{\\alpha}p^{\\frac{-\\sigma}{\\alpha}-1}$  \\\n",
        "$\\rightarrow ((1+\\tau)(\\sigma - 1)YP^\\sigma)p^{-\\sigma} =  (w \\sigma \\frac{1}{\\alpha} (\\frac{2Y}{A})^\\frac{1}{\\alpha}(\\frac{1}{P})^\\frac{-\\sigma}{\\alpha})p^{\\frac{-\\sigma}{\\alpha}-1} $ \\\n",
        "$\\rightarrow ((1+\\tau)(\\sigma - 1)YP^\\sigma)p^{-\\sigma + \\frac{\\sigma}{\\alpha} + 1} = (w \\sigma \\frac{1}{\\alpha} (\\frac{2Y}{A})^\\frac{1}{\\alpha}(\\frac{1}{P})^\\frac{-\\sigma}{\\alpha})$ \\\n",
        "$\\rightarrow p^* = (\\frac{(w \\sigma \\frac{1}{\\alpha} (\\frac{2Y}{A})^\\frac{1}{\\alpha}(\\frac{1}{P})^\\frac{-\\sigma}{\\alpha}}{((1+\\tau)(\\sigma - 1)YP^\\sigma)})^{\\frac{1}{-\\sigma + \\frac{\\sigma}{\\alpha} + 1}}$"
      ]
    },
    {
      "cell_type": "markdown",
      "metadata": {
        "id": "ezO12o0pPVPC"
      },
      "source": [
        "So the solution of the firm's problem is: \\\n",
        "$Choice = argmax_{choice} (\\pi)$ \\\n",
        "$\\rightarrow Profit = Max(0 \\; , \\pi_{domestic}^* \\; , \\pi_{export}^*)$ \\\n",
        "$\\pi_{domestic}^* = p^*_{domestic} Y(\\frac{p^*_{domestic}}{P})^{-\\sigma} - w (\\frac{Y}{A} (\\frac{p^*_{domestic}}{P})^{-\\sigma})^{\\frac{1}{\\alpha}} - f_0$ \\\n",
        "$\\pi_{export}^* = (1+\\tau)p^*_{export} Y(\\frac{p^*_{export}}{P})^{-\\sigma} - w \\times (\\frac{2Y}{A} (\\frac{p^*_{export}}{P})^{-\\sigma})^{\\frac{1}{\\alpha}} - f_o - f_x$"
      ]
    },
    {
      "cell_type": "markdown",
      "metadata": {
        "id": "8x2gJ4XV8I3g"
      },
      "source": [
        "**3. Determine the threshed ($A_o$) a firm enters the domestic market.**"
      ]
    },
    {
      "cell_type": "markdown",
      "metadata": {
        "id": "ySa0HlZwSvqw"
      },
      "source": [
        "As it is known, the lower the productivity or, in other words, the smaller the value of $A$, the lower the production and thus the income and profit. Therefore, if $A$ is less than a certain threshold, the profit of the firm will be negative and as a result, it will not enter the domestic market. This threshold is the limit that makes the profit of the firm exactly equal to zero: (We must use optimal price or $p^*$ in the calculations) \\\\\n",
        "$profit = p^*_{domestic} \\times Y(\\frac{p^*_{domestic}}{P})^{-\\sigma} - w \\times (\\frac{Y}{A} (\\frac{p^*_{domestic}}{P})^{-\\sigma})^{\\frac{1}{\\alpha}} - f_0$ \\\\\n",
        "$profit = 0 \\; \\rightarrow \\; p^*_{domestic} \\times Y(\\frac{p^*_{domestic}}{P})^{-\\sigma} - w \\times (\\frac{Y}{A_0} (\\frac{p^*_{domestic}}{P})^{-\\sigma})^{\\frac{1}{\\alpha}} - f_0 = 0$ \\\\\n",
        "$\\rightarrow p^* \\times Y(\\frac{p^*}{P})^{-\\sigma} - f_0 = w \\times (Y (\\frac{p^*_{domestic}}{P})^{-\\sigma})^{\\frac{1}{\\alpha}} (\\frac{1}{A_o})^{\\frac{1}{\\alpha}}$ \\\\\n",
        "$\\rightarrow A_o = \\frac{w^\\alpha \\: Y (\\frac{p^*_{domestic}}{P})^{-\\sigma}}{(p^*_{domestic} \\times Y(\\frac{p^*_{domestic}}{P})^{-\\sigma} - f_0)^\\alpha}$ \\\\\n",
        "Therefore, if A is smaller than this threshold, the firm will not enter the domestic market."
      ]
    },
    {
      "cell_type": "markdown",
      "metadata": {
        "id": "QEMIIsmFSHfJ"
      },
      "source": [
        "**4. Determine the threshed ($A_x$) a firm enters the export market.**"
      ]
    },
    {
      "cell_type": "markdown",
      "metadata": {
        "id": "J5ZwMKxfaFcq"
      },
      "source": [
        "In order for the firm to go from the second stage to the third stage, its profit must be such that its total profit is higher than if it only operates in the domestic market. Therefore, if the productivity exceeds a threshold, it is more profitable to enter the foreign market. For this purpose, we need to find a threshold where the company's optimal profit in the state that operates only in the domestic market is equal to the state that operates in both markets: \\\n",
        "$\\pi_{domestic}^* = \\pi_{export}^*$ \\\n",
        "$\\rightarrow p^*_{domestic} Y(\\frac{p^*_{domestic}}{P})^{-\\sigma} - w (\\frac{Y}{A} (\\frac{p^*_{domestic}}{P})^{-\\sigma})^{\\frac{1}{\\alpha}} - f_0 = (1+\\tau)p^*_{export} Y(\\frac{p^*_{export}}{P})^{-\\sigma} - w \\times (\\frac{2Y}{A} (\\frac{p^*_{export}}{P})^{-\\sigma})^{\\frac{1}{\\alpha}} - f_o - f_x$ \\\n",
        "$\\rightarrow (1+\\tau)p^*_{export} Y(\\frac{p^*_{export}}{P})^{-\\sigma} - p^*_{domestic} Y(\\frac{p^*_{domestic}}{P})^{-\\sigma} - f_x = [w (YP^{\\sigma})^{\\frac{1}{\\alpha}} (2^{\\frac{1}{\\alpha}}(p^*_{export})^{\\frac{-\\sigma}{\\alpha}} - (p^*_{domestic})^{\\frac{-\\sigma}{\\alpha}})](\\frac{1}{A_x})^{\\frac{1}{\\alpha}}$ \\\n",
        "$\\rightarrow A_x = \\frac {w^\\alpha Y P^{\\sigma} (2^{\\frac{1}{\\alpha}}(p^*_{export})^{\\frac{-\\sigma}{\\alpha}} - (p^*_{domestic})^{\\frac{-\\sigma}{\\alpha}})^\\alpha} {((1+\\tau)p^*_{export} Y(\\frac{p^*_{export}}{P})^{-\\sigma} - p^*_{domestic} Y(\\frac{p^*_{domestic}}{P})^{-\\sigma} - f_x)^\\alpha}$"
      ]
    },
    {
      "cell_type": "markdown",
      "metadata": {
        "id": "jZn5RGAkaF6k"
      },
      "source": [
        "**5. Now write a code in Python to simulate the firms’behavior using the Monte-Carlo Simulation.**"
      ]
    },
    {
      "cell_type": "markdown",
      "metadata": {
        "id": "dI0PiuDVAvQD"
      },
      "source": [
        "First, we implement the desired simulation with the help of the analytical solution obtained in part 2:"
      ]
    },
    {
      "cell_type": "code",
      "execution_count": 1,
      "metadata": {
        "id": "j9qCACB51OAW"
      },
      "outputs": [],
      "source": [
        "import numpy as np\n",
        "from scipy.stats import lognorm, pareto\n",
        "\n",
        "\n",
        "def optimal_price_domestic(w, sigma, alpha, Y, A, P):\n",
        "  numerator =  w * sigma * (1/alpha) * (Y/A)**(1/alpha) * (1/P)**(-sigma/alpha)\n",
        "  denominator = (sigma - 1) * Y * P**sigma\n",
        "  optimal_p = (numerator/denominator) **  (1/(-sigma+sigma/alpha+1))\n",
        "  return optimal_p\n",
        "\n",
        "def optimal_price_export(w, sigma, alpha, Y, A, P, tau):\n",
        "  numerator =  w * sigma * (1/alpha) * (2*Y/A)**(1/alpha) * (1/P)**(-sigma/alpha)\n",
        "  denominator = (1 + tau) * (sigma - 1) * Y * P**sigma\n",
        "  optimal_p = (numerator/denominator) **  (1/(-sigma+sigma/alpha+1))\n",
        "  return optimal_p\n",
        "\n",
        "def demand_quantity(price, P, sigma, Y):\n",
        "  quantity = Y * (price/P)**(-sigma)\n",
        "  return quantity\n",
        "\n",
        "def required_labor(production_quantity, A, alpha):\n",
        "  labor = (production_quantity/A) ** (1/alpha)\n",
        "  return labor\n",
        "\n",
        "def domestic_profit(quantity, price, labor, w, f0):\n",
        "  revenue = quantity * price\n",
        "  cost = labor * w + f0\n",
        "  return revenue - cost\n",
        "\n",
        "def export_profit(quantity, price, labor, w, f0, fx, tau):\n",
        "  revenue = (1 + tau) * quantity * price\n",
        "  cost = labor * w + f0 + fx\n",
        "  return revenue - cost\n",
        "\n",
        "def simulate_firms_behavior_analytical(\n",
        "    w, sigma, alpha, Y, A_bar, theta, P, f0, fx, tau,\n",
        "    sample_size, A_distribution=\"Pareto\"\n",
        "):\n",
        "  np.random.seed(0)\n",
        "  if A_distribution == \"Pareto\":\n",
        "    A = pareto.rvs(b=theta, loc=0, scale=A_bar, size=sample_size)\n",
        "  elif A_distribution == \"LogNormal\":\n",
        "    A = lognorm.rvs(loc=A_bar, s=theta, size=sample_size)\n",
        "\n",
        "  domestic_price_func = np.vectorize(\n",
        "      lambda x: optimal_price_domestic(w, sigma, alpha, Y, x, P)\n",
        "  )\n",
        "  domestic_prices = domestic_price_func(A)\n",
        "\n",
        "  export_price_func = np.vectorize(\n",
        "      lambda x: optimal_price_export(w, sigma, alpha, Y, x, P, tau)\n",
        "  )\n",
        "  export_prices = export_price_func(A)\n",
        "\n",
        "  demand_func = np.vectorize(\n",
        "      lambda x: demand_quantity(x, P, sigma, Y)\n",
        "  )\n",
        "  domestic_quantities = demand_func(domestic_prices)\n",
        "  export_quantities = demand_func(export_prices)\n",
        "\n",
        "  domestic_labors = required_labor(domestic_quantities, A, alpha)\n",
        "  export_labors = required_labor(2*export_quantities, A, alpha)\n",
        "\n",
        "  choices = []\n",
        "  optimal_prices = []\n",
        "  optimal_quantities = []\n",
        "  optimal_labors = []\n",
        "  for i in range(sample_size):\n",
        "    domestic_profit_value =  domestic_profit(\n",
        "        domestic_quantities[i], domestic_prices[i], domestic_labors[i], w, f0\n",
        "    )\n",
        "    export_profit_value =  export_profit(\n",
        "        export_quantities[i], export_prices[i], export_labors[i], w, f0, fx, tau\n",
        "    )\n",
        "    if export_profit_value > domestic_profit_value > 0:\n",
        "      choices.append(2)\n",
        "      optimal_prices.append(export_prices[i])\n",
        "      optimal_quantities.append(export_quantities[i])\n",
        "      optimal_labors.append(export_labors[i])\n",
        "\n",
        "    elif domestic_profit_value > 0:\n",
        "      choices.append(1)\n",
        "      optimal_prices.append(domestic_prices[i])\n",
        "      optimal_quantities.append(domestic_quantities[i])\n",
        "      optimal_labors.append(domestic_labors[i])\n",
        "\n",
        "    else:\n",
        "      choices.append(0)\n",
        "      optimal_prices.append(0)\n",
        "      optimal_quantities.append(0)\n",
        "      optimal_labors.append(0)\n",
        "\n",
        "  return choices, optimal_prices, optimal_quantities, optimal_labors"
      ]
    },
    {
      "cell_type": "markdown",
      "metadata": {
        "id": "zH70-RXgaYU8"
      },
      "source": [
        "**6. Suppose the number of firms is $N = 1000$. Set $\\theta = 3.5$, $\\bar{A} = 1$, $\\sigma = 2.4$ ,  $P = 1$ , $Y = 100$ , $\\alpha =\n",
        "0.5$ , $f_0 = 1.2$. Generate N samples of firms and save them in your memory.**"
      ]
    },
    {
      "cell_type": "markdown",
      "metadata": {
        "id": "0vIL3lt1Tc7v"
      },
      "source": [
        "In the first step, we simulate the firms for the required number of samples and obtain their production, price and labor values:"
      ]
    },
    {
      "cell_type": "code",
      "execution_count": 2,
      "metadata": {
        "id": "G88VwMsVhnmh"
      },
      "outputs": [],
      "source": [
        "N = 1000\n",
        "\n",
        "params = {\n",
        "    'sample_size': N,\n",
        "    'w': 0.75,\n",
        "    'theta': 3.5,\n",
        "    'A_bar': 1,\n",
        "    'sigma': 2.4,\n",
        "    'P': 1,\n",
        "    'Y': 100,\n",
        "    'alpha': 0.5,\n",
        "    'f0': 1.2,\n",
        "    'fx': 4,\n",
        "    'tau': 0.9\n",
        "}\n",
        "\n",
        "choices, prices, quantities, labors = simulate_firms_behavior_analytical(**params)\n",
        "sales = [prices[i] * quantities[i] for i in range(len(prices))]"
      ]
    },
    {
      "cell_type": "markdown",
      "metadata": {
        "id": "6FTN6vxjojzo"
      },
      "source": [
        "**7. Plot the distribution of these simulated firms' sales, exports.**"
      ]
    },
    {
      "cell_type": "markdown",
      "metadata": {
        "id": "bITOqlS9TWNj"
      },
      "source": [
        "Now we plot the distribution of the sales, quantity, the optimal price  and the labor of the firms:"
      ]
    },
    {
      "cell_type": "code",
      "execution_count": 3,
      "metadata": {
        "colab": {
          "base_uri": "https://localhost:8080/",
          "height": 1000
        },
        "id": "dSVEwk1hooFU",
        "outputId": "2a28fb9b-aa72-46a6-a82f-189a74add492"
      },
      "outputs": [
        {
          "data": {
            "image/png": "[encoded data removed]",
            "text/plain": [
              "<Figure size 500x500 with 1 Axes>"
            ]
          },
          "metadata": {},
          "output_type": "display_data"
        },
        {
          "data": {
            "image/png": "[encoded data removed]",
            "text/plain": [
              "<Figure size 500x500 with 1 Axes>"
            ]
          },
          "metadata": {},
          "output_type": "display_data"
        },
        {
          "data": {
            "image/png": "[encoded data removed]",
            "text/plain": [
              "<Figure size 500x500 with 1 Axes>"
            ]
          },
          "metadata": {},
          "output_type": "display_data"
        },
        {
          "data": {
            "image/png": "[encoded data removed]",
            "text/plain": [
              "<Figure size 500x500 with 1 Axes>"
            ]
          },
          "metadata": {},
          "output_type": "display_data"
        }
      ],
      "source": [
        "import pandas as pd\n",
        "import seaborn as sns\n",
        "\n",
        "simulated_firms = pd.DataFrame({\n",
        "    'price': prices,\n",
        "    'sales': sales,\n",
        "    'quantity': quantities,\n",
        "    'labor': labors\n",
        "})\n",
        "\n",
        "sns.displot(simulated_firms, x='price', kde=True, stat='density', alpha=.4);\n",
        "sns.displot(simulated_firms, x='sales', kde=True, stat='density', alpha=.4);\n",
        "sns.displot(simulated_firms, x='quantity', kde=True, stat='density', alpha=.4);\n",
        "sns.displot(simulated_firms, x='labor', kde=True, stat='density', alpha=.4);"
      ]
    },
    {
      "cell_type": "markdown",
      "metadata": {
        "id": "V0ewyohBKMQf"
      },
      "source": [
        "**8. Now suppose that as an econometrician, we observe these firms' characteristics like Sale, production, export, employment. We want to calibrate the model and estimate the parmeters. Use SMM to estimate the parameters $\\theta, \\sigma, f_o, f_x$. Calibrate the other parameters as\n",
        "above. Suppose the moments are the average sales of the firms, average export if export, the fraction of firms that export, avrage employment of domestic producers.**"
      ]
    },
    {
      "cell_type": "markdown",
      "metadata": {
        "id": "Ij5izWR5Tlzm"
      },
      "source": [
        "First we implement required moments:"
      ]
    },
    {
      "cell_type": "code",
      "execution_count": 4,
      "metadata": {
        "id": "IabLZy7tOb3k"
      },
      "outputs": [],
      "source": [
        "def average_sales_moment(sales):\n",
        "  average_sales = np.mean(sales)\n",
        "  return average_sales\n",
        "\n",
        "def average_export_moment(choices, quantities):\n",
        "  choices = np.array(choices)\n",
        "  exporters = np.argwhere(choices == 2).flatten()\n",
        "  average_export = np.array(quantities)[exporters].mean()\n",
        "  return average_export\n",
        "\n",
        "def export_fraction_moment(choices):\n",
        "  choices = np.array(choices)\n",
        "  exporters = np.argwhere(choices == 2).flatten()\n",
        "  fraction = exporters.size / choices.size\n",
        "  return fraction\n",
        "\n",
        "def domestic_average_employment(choices, labors):\n",
        "  choices = np.array(choices)\n",
        "  domestics = np.argwhere(choices == 1).flatten()\n",
        "  average_employment = np.array(labors)[domestics].mean()\n",
        "  return average_employment"
      ]
    },
    {
      "cell_type": "markdown",
      "metadata": {
        "id": "v6vyOhZATrSy"
      },
      "source": [
        "Now we implement moment simulation and SMM:"
      ]
    },
    {
      "cell_type": "code",
      "execution_count": 5,
      "metadata": {
        "id": "uqhP-SDCK6B1"
      },
      "outputs": [],
      "source": [
        "def moment_simulation(population_moments, base_params, query_params):\n",
        "  for param in query_params.keys():\n",
        "    base_params[param] = query_params[param]\n",
        "\n",
        "  simulated_moments = []\n",
        "  simulated_values = simulate_firms_behavior_analytical(\n",
        "      **base_params\n",
        "  )\n",
        "  simul_choices, simul_prices, simul_quantities, simul_labors = simulated_values\n",
        "  simul_sales = [\n",
        "      simul_prices[i] * simul_quantities[i]\n",
        "      for i in range(len(simul_prices))\n",
        "  ]\n",
        "\n",
        "  simulated_moments.append(average_sales_moment(simul_sales))\n",
        "  simulated_moments.append(average_export_moment(simul_choices, simul_quantities))\n",
        "  simulated_moments.append(export_fraction_moment(simul_choices))\n",
        "  simulated_moments.append(domestic_average_employment(simul_choices, simul_labors))\n",
        "\n",
        "  return np.array(simulated_moments)"
      ]
    },
    {
      "cell_type": "code",
      "execution_count": 6,
      "metadata": {
        "id": "Op-4pBeRUF9m"
      },
      "outputs": [],
      "source": [
        "population_moments = []\n",
        "population_moments.append(average_sales_moment(sales))\n",
        "population_moments.append(average_export_moment(choices, quantities))\n",
        "population_moments.append(export_fraction_moment(choices))\n",
        "population_moments.append(domestic_average_employment(choices, labors))\n",
        "population_moments = np.array(population_moments)"
      ]
    },
    {
      "cell_type": "code",
      "execution_count": 9,
      "metadata": {
        "colab": {
          "base_uri": "https://localhost:8080/"
        },
        "id": "mVQdZsnfOPGi",
        "outputId": "8a762873-de5f-424f-cfb5-9a35202797a6"
      },
      "outputs": [
        {
          "name": "stderr",
          "output_type": "stream",
          "text": [
            "<ipython-input-4-bda0e36728e6>:20: RuntimeWarning: Mean of empty slice.\n",
            "  average_employment = np.array(labors)[domestics].mean()\n"
          ]
        }
      ],
      "source": [
        "from scipy.optimize import minimize\n",
        "\n",
        "R = 100\n",
        "base_params = params\n",
        "\n",
        "def SMM(param_values):\n",
        "    theta = param_values[0]\n",
        "    sigma = param_values[1]\n",
        "    f0 = param_values[2]\n",
        "    fx = param_values[3]\n",
        "\n",
        "    query_params = {\n",
        "        'theta': theta,\n",
        "        'sigma': sigma,\n",
        "        'f0': f0,\n",
        "        'fx': fx\n",
        "    }\n",
        "\n",
        "    all_simulated_moments = np.empty((R, population_moments.shape[0]))\n",
        "    for i in range(R):\n",
        "      simulated_moments = moment_simulation(\n",
        "          population_moments, base_params, query_params\n",
        "      )\n",
        "      all_simulated_moments[i, :] = simulated_moments\n",
        "    average_simulated_moments = np.mean(all_simulated_moments, axis=0)\n",
        "\n",
        "    distance = np.linalg.norm(average_simulated_moments - population_moments, 2)\n",
        "    return distance\n",
        "\n",
        "res = minimize(SMM, [3, 2, 1.5, 5], method='Nelder-Mead', tol=1e-7)"
      ]
    },
    {
      "cell_type": "code",
      "execution_count": 10,
      "metadata": {
        "colab": {
          "base_uri": "https://localhost:8080/"
        },
        "id": "uDypmuFpHMKd",
        "outputId": "ae0a4c07-c6fa-4c0e-b21e-b6ee8dd48681"
      },
      "outputs": [
        {
          "name": "stdout",
          "output_type": "stream",
          "text": [
            "Final Distance: 0.0085\n",
            "Estimated Parameters: [3.46627436 2.40065026 1.70783327 3.9557561 ]\n"
          ]
        }
      ],
      "source": [
        "print(f\"Final Distance: {res.fun:.4f}\")\n",
        "print(f\"Estimated Parameters: {res.x}\")"
      ]
    },
    {
      "cell_type": "markdown",
      "metadata": {
        "id": "6pYhMsVg-0Vq"
      },
      "source": [
        "**9. Now repeat the previous problem, but now you add two other moments and re-estimate the model.**"
      ]
    },
    {
      "cell_type": "markdown",
      "metadata": {
        "id": "yKvStQgsACMp"
      },
      "source": [
        "We use below 2 moments: \\\n",
        "1- Fraction of firms that doesn't enter the market \\\n",
        "2- Average production of the firms that export"
      ]
    },
    {
      "cell_type": "code",
      "execution_count": null,
      "metadata": {
        "id": "e1sOstMO-7ql"
      },
      "outputs": [],
      "source": [
        "def out_of_market_fraction_moment(choices):\n",
        "  choices = np.array(choices)\n",
        "  outs = np.argwhere(choices == 1).flatten()\n",
        "  fraction = outs.size / choices.size\n",
        "  return fraction\n",
        "\n",
        "def export_average_quantites(choices, quantities):\n",
        "  choices = np.array(choices)\n",
        "  exporters = np.argwhere(choices == 2).flatten()\n",
        "  average_quantities = np.array(quantities)[exporters].mean()\n",
        "  return average_quantities"
      ]
    },
    {
      "cell_type": "code",
      "execution_count": null,
      "metadata": {
        "id": "kiDKE3TnAnSt"
      },
      "outputs": [],
      "source": [
        "new_moments = []\n",
        "new_moments.append(out_of_market_fraction_moment(choices))\n",
        "new_moments.append(export_average_quantites(choices, quantities))\n",
        "population_moments = np.append(population_moments, np.array(new_moments))"
      ]
    },
    {
      "cell_type": "code",
      "execution_count": null,
      "metadata": {
        "id": "ZJ4cAldBBCFL"
      },
      "outputs": [],
      "source": [
        "def moment_simulation(population_moments, base_params, query_params):\n",
        "  for param in query_params.keys():\n",
        "    base_params[param] = query_params[param]\n",
        "\n",
        "  simulated_moments = []\n",
        "  simulated_values = simulate_firms_behavior_analytical(\n",
        "      **base_params\n",
        "  )\n",
        "  simul_choices, simul_prices, simul_quantities, simul_labors = simulated_values\n",
        "  simul_sales = [\n",
        "      simul_prices[i] * simul_quantities[i]\n",
        "      for i in range(len(simul_prices))\n",
        "  ]\n",
        "\n",
        "  simulated_moments.append(average_sales_moment(simul_sales))\n",
        "  simulated_moments.append(average_export_moment(simul_choices, simul_quantities))\n",
        "  simulated_moments.append(export_fraction_moment(simul_choices))\n",
        "  simulated_moments.append(domestic_average_employment(simul_choices, simul_labors))\n",
        "  simulated_moments.append(out_of_market_fraction_moment(simul_choices))\n",
        "  simulated_moments.append(export_average_quantites(simul_choices, simul_quantities))\n",
        "\n",
        "  return np.array(simulated_moments)"
      ]
    },
    {
      "cell_type": "code",
      "execution_count": null,
      "metadata": {
        "id": "3iZWzHhhBGOx"
      },
      "outputs": [],
      "source": [
        "from scipy.optimize import minimize\n",
        "\n",
        "R = 500\n",
        "base_params = params\n",
        "\n",
        "def SMM(param_values):\n",
        "    theta = param_values[0]\n",
        "    sigma = param_values[1]\n",
        "    f0 = param_values[2]\n",
        "    fx = param_values[3]\n",
        "\n",
        "    query_params = {\n",
        "        'theta': theta,\n",
        "        'sigma': sigma,\n",
        "        'f0': f0,\n",
        "        'fx': fx\n",
        "    }\n",
        "\n",
        "    all_simulated_moments = np.empty((R, population_moments.shape[0]))\n",
        "    for i in range(R):\n",
        "      simulated_moments = moment_simulation(\n",
        "          population_moments, base_params, query_params\n",
        "      )\n",
        "      all_simulated_moments[i, :] = simulated_moments\n",
        "    average_simulated_moments = np.mean(all_simulated_moments, axis=0)\n",
        "\n",
        "    distance = np.linalg.norm(average_simulated_moments - population_moments, 2)\n",
        "    return distance\n",
        "\n",
        "res = minimize(SMM, [3, 2, 1.5, 5], method='Nelder-Mead', tol=1e-7)"
      ]
    },
    {
      "cell_type": "code",
      "execution_count": null,
      "metadata": {
        "colab": {
          "base_uri": "https://localhost:8080/"
        },
        "id": "h3hpCXS-Gt7P",
        "outputId": "47db535e-7572-40f1-d932-6090177d754c"
      },
      "outputs": [
        {
          "name": "stdout",
          "output_type": "stream",
          "text": [
            "Final Distance: 0.0205\n",
            "Estimated Parameters: [3.32452822 2.41084345 1.58930315 3.84590153]\n"
          ]
        }
      ],
      "source": [
        "print(f\"Final Distance: {res.fun:.4f}\")\n",
        "print(f\"Estimated Parameters: {res.x}\")"
      ]
    },
    {
      "cell_type": "markdown",
      "metadata": {
        "id": "nJdT-8TOHOG7"
      },
      "source": [
        "**10. Again, repeat the same estimation exercise assuming that the distribution is log-normal\n",
        "$log A \\sim N(\\bar{A}, \\gamma)$. $\\:$ (Estimate $\\gamma$ instead of $\\theta$).**\n",
        "\n"
      ]
    },
    {
      "cell_type": "markdown",
      "metadata": {
        "id": "hk2iBNyMSy9n"
      },
      "source": [
        "In the below section $\\theta$ is the same as the log-normal's $\\gamma$"
      ]
    },
    {
      "cell_type": "code",
      "execution_count": null,
      "metadata": {
        "id": "NTkomwN5H50o"
      },
      "outputs": [],
      "source": [
        "N = 1000\n",
        "\n",
        "params = {\n",
        "    'sample_size': N,\n",
        "    'w': 0.4,\n",
        "    'theta': 0.5,\n",
        "    'A_bar': 1,\n",
        "    'sigma': 2.4,\n",
        "    'P': 1,\n",
        "    'Y': 100,\n",
        "    'alpha': 0.5,\n",
        "    'f0': 1.2,\n",
        "    'fx': 4,\n",
        "    'tau': 0.9,\n",
        "    'A_distribution': 'LogNormal'\n",
        "}\n",
        "\n",
        "choices, prices, quantities, labors = simulate_firms_behavior_analytical(**params)\n",
        "sales = [prices[i] * quantities[i] for i in range(len(prices))]"
      ]
    },
    {
      "cell_type": "code",
      "execution_count": null,
      "metadata": {
        "id": "C1XKaivfK-lx"
      },
      "outputs": [],
      "source": [
        "population_moments = []\n",
        "population_moments.append(average_sales_moment(sales))\n",
        "population_moments.append(average_export_moment(choices, quantities))\n",
        "population_moments.append(export_fraction_moment(choices))\n",
        "population_moments.append(domestic_average_employment(choices, labors))\n",
        "population_moments.append(out_of_market_fraction_moment(choices))\n",
        "population_moments.append(export_average_quantites(choices, quantities))\n",
        "population_moments = np.array(population_moments)"
      ]
    },
    {
      "cell_type": "code",
      "execution_count": null,
      "metadata": {
        "id": "DTsbr1B_LPmv"
      },
      "outputs": [],
      "source": [
        "from scipy.optimize import minimize\n",
        "\n",
        "R = 300\n",
        "base_params = params\n",
        "\n",
        "def SMM(param_values):\n",
        "    theta = param_values[0]\n",
        "    sigma = param_values[1]\n",
        "    f0 = param_values[2]\n",
        "    fx = param_values[3]\n",
        "\n",
        "    query_params = {\n",
        "        'theta': theta,\n",
        "        'sigma': sigma,\n",
        "        'f0': f0,\n",
        "        'fx': fx\n",
        "    }\n",
        "\n",
        "    all_simulated_moments = np.empty((R, population_moments.shape[0]))\n",
        "    for i in range(R):\n",
        "      simulated_moments = moment_simulation(\n",
        "          population_moments, base_params, query_params\n",
        "      )\n",
        "      all_simulated_moments[i, :] = simulated_moments\n",
        "    average_simulated_moments = np.mean(all_simulated_moments, axis=0)\n",
        "\n",
        "    distance = np.linalg.norm(average_simulated_moments - population_moments, 2)\n",
        "    return distance\n",
        "\n",
        "res = minimize(SMM, [3, 2, 1.5, 5], method='Nelder-Mead', tol=1e-7)"
      ]
    },
    {
      "cell_type": "code",
      "execution_count": null,
      "metadata": {
        "colab": {
          "base_uri": "https://localhost:8080/"
        },
        "id": "dUPaggmjUOa5",
        "outputId": "bfbf319c-bf4e-479a-e07b-976a36a72c0a"
      },
      "outputs": [
        {
          "name": "stdout",
          "output_type": "stream",
          "text": [
            "Final Distance: 0.00000002\n",
            "Estimated Parameters: [0.5        2.4        1.94504559 3.9983682 ]\n"
          ]
        }
      ],
      "source": [
        "print(f\"Final Distance: {res.fun:.8f}\")\n",
        "print(f\"Estimated Parameters: {res.x}\")"
      ]
    }
  ],
  "metadata": {
    "colab": {
      "provenance": [],
      "toc_visible": true
    },
    "kernelspec": {
      "display_name": "Python 3",
      "name": "python3"
    },
    "language_info": {
      "name": "python"
    }
  },
  "nbformat": 4,
  "nbformat_minor": 0
}
